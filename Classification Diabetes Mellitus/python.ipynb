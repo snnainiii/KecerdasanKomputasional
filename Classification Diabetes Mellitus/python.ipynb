{
  "cells": [
    {
      "cell_type": "code",
      "execution_count": null,
      "metadata": {
        "id": "GDxNZOTZS_6o"
      },
      "outputs": [],
      "source": [
        "# memanggil libarary yang dibutuhkan\n",
        "# Menggunakan library standar untuk kalsifikasi\n",
        "import pandas as pd\n",
        "import string\n",
        "import numpy as np\n",
        "import nltk\n",
        "\n",
        "# import untuk mesin learning naive bayes\n",
        "from sklearn.naive_bayes import MultinomialNB\n",
        "from sklearn.naive_bayes import GaussianNB\n",
        "from sklearn import model_selection\n",
        "from sklearn.feature_extraction.text import CountVectorizer\n",
        "from sklearn.feature_extraction.text import TfidfTransformer\n",
        "\n",
        "# import untuk mesin learning KNN\n",
        "from sklearn.neighbors import KNeighborsClassifier\n",
        "\n",
        "# import untuk mesin learning SVM\n",
        "from sklearn import svm \n",
        "\n",
        "# membuat spliting data = traning/testing\n",
        "from sklearn.model_selection import train_test_split, cross_val_score\n",
        "from sklearn.utils.multiclass import unique_labels\n",
        "from sklearn.preprocessing import LabelBinarizer, OrdinalEncoder, OneHotEncoder\n",
        "\n",
        "# visualisasi hasil\n",
        "from sklearn.metrics import classification_report, accuracy_score, confusion_matrix\n",
        "import seaborn as sns\n",
        "import matplotlib.pyplot as plt\n"
      ]
    },
    {
      "cell_type": "code",
      "execution_count": null,
      "metadata": {
        "colab": {
          "base_uri": "https://localhost:8080/"
        },
        "id": "5iGAZ8H3UO3j",
        "outputId": "0012ca50-6188-4f7f-bc6c-2c3dac59b62c"
      },
      "outputs": [
        {
          "output_type": "stream",
          "name": "stdout",
          "text": [
            "     Nomor  Usia  Glukosa  Tekanan_darah  Ketebalan_kulit  Insulin  BMI  \\\n",
            "0        1    54      148             72               35      148   34   \n",
            "1        2    43       85             66               29      148   27   \n",
            "2        3    27      183             64               27      148   23   \n",
            "3        4    45       89             66               23       94   28   \n",
            "4        5    55      137             40               35      168   43   \n",
            "..     ...   ...      ...            ...              ...      ...  ...   \n",
            "115    116    45      125             70               18      122   29   \n",
            "116    117    39       96             56               34      115   25   \n",
            "117    118    33      167             74               17      144   23   \n",
            "118    119    48      120             80               37      150   42   \n",
            "119    120    42      156             86               28      155   34   \n",
            "\n",
            "     Penyakit  \n",
            "0           1  \n",
            "1           1  \n",
            "2           1  \n",
            "3           1  \n",
            "4           1  \n",
            "..        ...  \n",
            "115         1  \n",
            "116         0  \n",
            "117         1  \n",
            "118         1  \n",
            "119         1  \n",
            "\n",
            "[120 rows x 8 columns]\n"
          ]
        }
      ],
      "source": [
        "# membaca data DM\n",
        "dataMentah='https://raw.githubusercontent.com/snnainiii/Data/main/Data%20NB%20DM%20New.csv'\n",
        "teks = pd.read_csv(dataMentah, header = 0, delimiter = \",\", encoding = 'utf-8')\n",
        "X = pd.DataFrame(teks)\n",
        "print(X)"
      ]
    },
    {
      "cell_type": "code",
      "execution_count": null,
      "metadata": {
        "colab": {
          "base_uri": "https://localhost:8080/"
        },
        "id": "2JCLaAs1L_Z_",
        "outputId": "38158adc-10fd-4bb2-a3ec-e0fdb5cb0dd1"
      },
      "outputs": [
        {
          "output_type": "stream",
          "name": "stdout",
          "text": [
            "     Usia  Glukosa  Tekanan_darah  Ketebalan_kulit  Insulin  BMI  Penyakit\n",
            "0      54      148             72               35      148   34         1\n",
            "1      43       85             66               29      148   27         1\n",
            "2      27      183             64               27      148   23         1\n",
            "3      45       89             66               23       94   28         1\n",
            "4      55      137             40               35      168   43         1\n",
            "..    ...      ...            ...              ...      ...  ...       ...\n",
            "115    45      125             70               18      122   29         1\n",
            "116    39       96             56               34      115   25         0\n",
            "117    33      167             74               17      144   23         1\n",
            "118    48      120             80               37      150   42         1\n",
            "119    42      156             86               28      155   34         1\n",
            "\n",
            "[120 rows x 7 columns]\n"
          ]
        }
      ],
      "source": [
        "# membuang parameter yang tidak digunakan = nomor\n",
        "df = X.drop('Nomor', axis = 1)\n",
        "print(df)"
      ]
    },
    {
      "cell_type": "code",
      "execution_count": null,
      "metadata": {
        "colab": {
          "base_uri": "https://localhost:8080/"
        },
        "id": "m9bxSpsp6W0R",
        "outputId": "510c9809-dcb1-41d3-b09c-3fb0e802f515"
      },
      "outputs": [
        {
          "output_type": "execute_result",
          "data": {
            "text/plain": [
              "Penyakit\n",
              "0    37\n",
              "1    83\n",
              "Name: Penyakit, dtype: int64"
            ]
          },
          "metadata": {},
          "execution_count": 1711
        }
      ],
      "source": [
        "dt = df.groupby(\"Penyakit\")\n",
        "Diabet_imbalanced = dt[\"Penyakit\"].count()[1]\n",
        "Bukan_imbalanced = dt[\"Penyakit\"].count()[0]\n",
        "dt[\"Penyakit\"].count()"
      ]
    },
    {
      "cell_type": "code",
      "execution_count": null,
      "metadata": {
        "colab": {
          "base_uri": "https://localhost:8080/",
          "height": 472
        },
        "id": "xXkuITsU7Njb",
        "outputId": "5f846ff0-8bd0-44b0-d3c9-72cf54114421"
      },
      "outputs": [
        {
          "output_type": "display_data",
          "data": {
            "text/plain": [
              "<Figure size 640x480 with 1 Axes>"
            ],
            "image/png": "[encoded data removed]"
          },
          "metadata": {}
        }
      ],
      "source": [
        "import matplotlib.pyplot as plt\n",
        "\n",
        "def tampilkan_visualisasi(jumlah_diabet, jumlah_bukan):\n",
        "    labels = ['1','0']\n",
        "    jumlah_label = [jumlah_diabet, jumlah_bukan]\n",
        "    colors = ['#1f77b4', '#ff7f0e']\n",
        "\n",
        "    plt.bar(labels, jumlah_label, color=colors)\n",
        "    plt.xlabel('Penyakit')\n",
        "    plt.ylabel('Jumlah')\n",
        "    plt.title('Imbalanced Data')\n",
        "\n",
        "    plt.show()\n",
        "\n",
        "tampilkan_visualisasi(Diabet_imbalanced, Bukan_imbalanced)"
      ]
    },
    {
      "cell_type": "markdown",
      "metadata": {
        "id": "lci8tp-0GFjI"
      },
      "source": [
        "## Over Sampling"
      ]
    },
    {
      "cell_type": "code",
      "execution_count": null,
      "metadata": {
        "colab": {
          "base_uri": "https://localhost:8080/",
          "height": 496
        },
        "id": "xpH6pSTiBm83",
        "outputId": "56452229-d336-4239-8206-83e3ac1a0110"
      },
      "outputs": [
        {
          "output_type": "stream",
          "name": "stdout",
          "text": [
            "Jumlah sampel setelah oversampling:\n",
            "1    83\n",
            "0    83\n",
            "Name: Penyakit, dtype: int64\n"
          ]
        },
        {
          "output_type": "execute_result",
          "data": {
            "text/plain": [
              "     Usia  Glukosa  Tekanan_darah  Ketebalan_kulit  Insulin  BMI  Penyakit\n",
              "0      54      148             72               35      148   34         1\n",
              "1      43       85             66               29      148   27         1\n",
              "2      27      183             64               27      148   23         1\n",
              "3      45       89             66               23       94   28         1\n",
              "4      55      137             40               35      168   43         1\n",
              "..    ...      ...            ...              ...      ...  ...       ...\n",
              "161    52      118             92               27      147   34         0\n",
              "162    51      118             90               26      147   33         0\n",
              "163    36      112             74               35       36   33         0\n",
              "164    34      163             76               34      251   37         0\n",
              "165    43      134             82               33      144   33         0\n",
              "\n",
              "[166 rows x 7 columns]"
            ],
            "text/html": [
              "\n",
              "  <div id=\"df-78801c4c-ebe6-4149-b019-31dc93c8190e\">\n",
              "    <div class=\"colab-df-container\">\n",
              "      <div>\n",
              "<style scoped>\n",
              "    .dataframe tbody tr th:only-of-type {\n",
              "        vertical-align: middle;\n",
              "    }\n",
              "\n",
              "    .dataframe tbody tr th {\n",
              "        vertical-align: top;\n",
              "    }\n",
              "\n",
              "    .dataframe thead th {\n",
              "        text-align: right;\n",
              "    }\n",
              "</style>\n",
              "<table border=\"1\" class=\"dataframe\">\n",
              "  <thead>\n",
              "    <tr style=\"text-align: right;\">\n",
              "      <th></th>\n",
              "      <th>Usia</th>\n",
              "      <th>Glukosa</th>\n",
              "      <th>Tekanan_darah</th>\n",
              "      <th>Ketebalan_kulit</th>\n",
              "      <th>Insulin</th>\n",
              "      <th>BMI</th>\n",
              "      <th>Penyakit</th>\n",
              "    </tr>\n",
              "  </thead>\n",
              "  <tbody>\n",
              "    <tr>\n",
              "      <th>0</th>\n",
              "      <td>54</td>\n",
              "      <td>148</td>\n",
              "      <td>72</td>\n",
              "      <td>35</td>\n",
              "      <td>148</td>\n",
              "      <td>34</td>\n",
              "      <td>1</td>\n",
              "    </tr>\n",
              "    <tr>\n",
              "      <th>1</th>\n",
              "      <td>43</td>\n",
              "      <td>85</td>\n",
              "      <td>66</td>\n",
              "      <td>29</td>\n",
              "      <td>148</td>\n",
              "      <td>27</td>\n",
              "      <td>1</td>\n",
              "    </tr>\n",
              "    <tr>\n",
              "      <th>2</th>\n",
              "      <td>27</td>\n",
              "      <td>183</td>\n",
              "      <td>64</td>\n",
              "      <td>27</td>\n",
              "      <td>148</td>\n",
              "      <td>23</td>\n",
              "      <td>1</td>\n",
              "    </tr>\n",
              "    <tr>\n",
              "      <th>3</th>\n",
              "      <td>45</td>\n",
              "      <td>89</td>\n",
              "      <td>66</td>\n",
              "      <td>23</td>\n",
              "      <td>94</td>\n",
              "      <td>28</td>\n",
              "      <td>1</td>\n",
              "    </tr>\n",
              "    <tr>\n",
              "      <th>4</th>\n",
              "      <td>55</td>\n",
              "      <td>137</td>\n",
              "      <td>40</td>\n",
              "      <td>35</td>\n",
              "      <td>168</td>\n",
              "      <td>43</td>\n",
              "      <td>1</td>\n",
              "    </tr>\n",
              "    <tr>\n",
              "      <th>...</th>\n",
              "      <td>...</td>\n",
              "      <td>...</td>\n",
              "      <td>...</td>\n",
              "      <td>...</td>\n",
              "      <td>...</td>\n",
              "      <td>...</td>\n",
              "      <td>...</td>\n",
              "    </tr>\n",
              "    <tr>\n",
              "      <th>161</th>\n",
              "      <td>52</td>\n",
              "      <td>118</td>\n",
              "      <td>92</td>\n",
              "      <td>27</td>\n",
              "      <td>147</td>\n",
              "      <td>34</td>\n",
              "      <td>0</td>\n",
              "    </tr>\n",
              "    <tr>\n",
              "      <th>162</th>\n",
              "      <td>51</td>\n",
              "      <td>118</td>\n",
              "      <td>90</td>\n",
              "      <td>26</td>\n",
              "      <td>147</td>\n",
              "      <td>33</td>\n",
              "      <td>0</td>\n",
              "    </tr>\n",
              "    <tr>\n",
              "      <th>163</th>\n",
              "      <td>36</td>\n",
              "      <td>112</td>\n",
              "      <td>74</td>\n",
              "      <td>35</td>\n",
              "      <td>36</td>\n",
              "      <td>33</td>\n",
              "      <td>0</td>\n",
              "    </tr>\n",
              "    <tr>\n",
              "      <th>164</th>\n",
              "      <td>34</td>\n",
              "      <td>163</td>\n",
              "      <td>76</td>\n",
              "      <td>34</td>\n",
              "      <td>251</td>\n",
              "      <td>37</td>\n",
              "      <td>0</td>\n",
              "    </tr>\n",
              "    <tr>\n",
              "      <th>165</th>\n",
              "      <td>43</td>\n",
              "      <td>134</td>\n",
              "      <td>82</td>\n",
              "      <td>33</td>\n",
              "      <td>144</td>\n",
              "      <td>33</td>\n",
              "      <td>0</td>\n",
              "    </tr>\n",
              "  </tbody>\n",
              "</table>\n",
              "<p>166 rows × 7 columns</p>\n",
              "</div>\n",
              "      <button class=\"colab-df-convert\" onclick=\"convertToInteractive('df-78801c4c-ebe6-4149-b019-31dc93c8190e')\"\n",
              "              title=\"Convert this dataframe to an interactive table.\"\n",
              "              style=\"display:none;\">\n",
              "        \n",
              "  <svg xmlns=\"http://www.w3.org/2000/svg\" height=\"24px\"viewBox=\"0 0 24 24\"\n",
              "       width=\"24px\">\n",
              "    <path d=\"M0 0h24v24H0V0z\" fill=\"none\"/>\n",
              "    <path d=\"M18.56 5.44l.94 2.06.94-2.06 2.06-.94-2.06-.94-.94-2.06-.94 2.06-2.06.94zm-11 1L8.5 8.5l.94-2.06 2.06-.94-2.06-.94L8.5 2.5l-.94 2.06-2.06.94zm10 10l.94 2.06.94-2.06 2.06-.94-2.06-.94-.94-2.06-.94 2.06-2.06.94z\"/><path d=\"M17.41 7.96l-1.37-1.37c-.4-.4-.92-.59-1.43-.59-.52 0-1.04.2-1.43.59L10.3 9.45l-7.72 7.72c-.78.78-.78 2.05 0 2.83L4 21.41c.39.39.9.59 1.41.59.51 0 1.02-.2 1.41-.59l7.78-7.78 2.81-2.81c.8-.78.8-2.07 0-2.86zM5.41 20L4 18.59l7.72-7.72 1.47 1.35L5.41 20z\"/>\n",
              "  </svg>\n",
              "      </button>\n",
              "      \n",
              "  <style>\n",
              "    .colab-df-container {\n",
              "      display:flex;\n",
              "      flex-wrap:wrap;\n",
              "      gap: 12px;\n",
              "    }\n",
              "\n",
              "    .colab-df-convert {\n",
              "      background-color: #E8F0FE;\n",
              "      border: none;\n",
              "      border-radius: 50%;\n",
              "      cursor: pointer;\n",
              "      display: none;\n",
              "      fill: #1967D2;\n",
              "      height: 32px;\n",
              "      padding: 0 0 0 0;\n",
              "      width: 32px;\n",
              "    }\n",
              "\n",
              "    .colab-df-convert:hover {\n",
              "      background-color: #E2EBFA;\n",
              "      box-shadow: 0px 1px 2px rgba(60, 64, 67, 0.3), 0px 1px 3px 1px rgba(60, 64, 67, 0.15);\n",
              "      fill: #174EA6;\n",
              "    }\n",
              "\n",
              "    [theme=dark] .colab-df-convert {\n",
              "      background-color: #3B4455;\n",
              "      fill: #D2E3FC;\n",
              "    }\n",
              "\n",
              "    [theme=dark] .colab-df-convert:hover {\n",
              "      background-color: #434B5C;\n",
              "      box-shadow: 0px 1px 3px 1px rgba(0, 0, 0, 0.15);\n",
              "      filter: drop-shadow(0px 1px 2px rgba(0, 0, 0, 0.3));\n",
              "      fill: #FFFFFF;\n",
              "    }\n",
              "  </style>\n",
              "\n",
              "      <script>\n",
              "        const buttonEl =\n",
              "          document.querySelector('#df-78801c4c-ebe6-4149-b019-31dc93c8190e button.colab-df-convert');\n",
              "        buttonEl.style.display =\n",
              "          google.colab.kernel.accessAllowed ? 'block' : 'none';\n",
              "\n",
              "        async function convertToInteractive(key) {\n",
              "          const element = document.querySelector('#df-78801c4c-ebe6-4149-b019-31dc93c8190e');\n",
              "          const dataTable =\n",
              "            await google.colab.kernel.invokeFunction('convertToInteractive',\n",
              "                                                     [key], {});\n",
              "          if (!dataTable) return;\n",
              "\n",
              "          const docLinkHtml = 'Like what you see? Visit the ' +\n",
              "            '<a target=\"_blank\" href=https://colab.research.google.com/notebooks/data_table.ipynb>data table notebook</a>'\n",
              "            + ' to learn more about interactive tables.';\n",
              "          element.innerHTML = '';\n",
              "          dataTable['output_type'] = 'display_data';\n",
              "          await google.colab.output.renderOutput(dataTable, element);\n",
              "          const docLink = document.createElement('div');\n",
              "          docLink.innerHTML = docLinkHtml;\n",
              "          element.appendChild(docLink);\n",
              "        }\n",
              "      </script>\n",
              "    </div>\n",
              "  </div>\n",
              "  "
            ]
          },
          "metadata": {},
          "execution_count": 1713
        }
      ],
      "source": [
        "\n",
        "import pandas as pd\n",
        "from imblearn.over_sampling import SMOTE\n",
        "\n",
        "# Contoh DataFrame dengan kolom target\n",
        "data = df\n",
        "\n",
        "# Memisahkan fitur dan target\n",
        "target = 'Penyakit'\n",
        "X = df.drop(target, axis=1)\n",
        "y = df[target]\n",
        "\n",
        "\n",
        "# # Menerapkan SMOTE untuk oversampling\n",
        "smote = SMOTE()\n",
        "X_resampled, y_resampled = smote.fit_resample(X,y)\n",
        "\n",
        "# Menampilkan hasil oversampling\n",
        "oversampled_df = pd.concat([pd.DataFrame(X_resampled, columns=X.columns), pd.Series(y_resampled, name='Penyakit')], axis=1)\n",
        "\n",
        "print(\"Jumlah sampel setelah oversampling:\")\n",
        "print(y_resampled.value_counts())\n",
        "oversampled_df\n"
      ]
    },
    {
      "cell_type": "code",
      "execution_count": null,
      "metadata": {
        "id": "AK9C8J_fKQPf"
      },
      "outputs": [],
      "source": [
        "oversampled_df.to_csv('balanced_Oversampled.csv', index=False)"
      ]
    },
    {
      "cell_type": "code",
      "execution_count": null,
      "metadata": {
        "colab": {
          "base_uri": "https://localhost:8080/",
          "height": 472
        },
        "id": "dtffKsCFKpYZ",
        "outputId": "2133abea-2f7e-41c8-d6a8-a76b1538bd1e"
      },
      "outputs": [
        {
          "output_type": "display_data",
          "data": {
            "text/plain": [
              "<Figure size 640x480 with 1 Axes>"
            ],
            "image/png": "[encoded data removed]"
          },
          "metadata": {}
        }
      ],
      "source": [
        "import matplotlib.pyplot as plt\n",
        "\n",
        "dt_oversampled = oversampled_df.groupby(\"Penyakit\")\n",
        "diabet_balanced = dt_oversampled['Penyakit'].count()[1]\n",
        "bukan_balanced = dt_oversampled['Penyakit'].count()[0]\n",
        "\n",
        "def tampilkan_visualisasi(jumlah_diabet, jumlah_bukan):\n",
        "    labels = ['1','0']\n",
        "    jumlah_label = [jumlah_diabet, jumlah_bukan]\n",
        "    colors = ['#1f77b4', '#ff7f0e']\n",
        "\n",
        "    plt.bar(labels, jumlah_label, color=colors)\n",
        "    plt.xlabel('Penyakit')\n",
        "    plt.ylabel('Jumlah')\n",
        "    plt.title('Over Balanced Data')\n",
        "\n",
        "    plt.show()\n",
        "\n",
        "tampilkan_visualisasi(diabet_balanced, bukan_balanced)"
      ]
    },
    {
      "cell_type": "code",
      "execution_count": null,
      "metadata": {
        "id": "YdGIrFvbHcca"
      },
      "outputs": [],
      "source": [
        "X_over = oversampled_df.iloc[:,0:-1].values\n",
        "Y_over = oversampled_df.iloc[:, -1].values"
      ]
    },
    {
      "cell_type": "code",
      "execution_count": null,
      "metadata": {
        "colab": {
          "base_uri": "https://localhost:8080/"
        },
        "id": "3yDQOwJUHrnI",
        "outputId": "57ca2a21-a0b9-4232-89df-d1bbc7febb06"
      },
      "outputs": [
        {
          "output_type": "stream",
          "name": "stdout",
          "text": [
            "[[ 54 148  72  35 148  34]\n",
            " [ 43  85  66  29 148  27]\n",
            " [ 27 183  64  27 148  23]\n",
            " [ 45  89  66  23  94  28]\n",
            " [ 55 137  40  35 168  43]\n",
            " [ 57 116  74  27 148  26]\n",
            " [ 56  78  50  32  88  31]\n",
            " [ 55 115  73  27 148  35]\n",
            " [ 67 197  70  45 543  31]\n",
            " [ 55 125  96  27 148   0]\n",
            " [ 51 110  92  27 148  38]\n",
            " [ 49 168  74  27 148  38]\n",
            " [ 48 139  80  27 148  27]\n",
            " [ 40 189  60  23 846  30]\n",
            " [ 48 166  72  19 175  26]\n",
            " [ 60 100  73  27 148  30]\n",
            " [ 65 118  84  47 230  46]\n",
            " [ 34 107  74  27 148  30]\n",
            " [ 57 103  30  38  83  43]\n",
            " [ 58 115  70  30  96  35]\n",
            " [ 45 126  88  41 235  39]\n",
            " [ 41  99  84  27 148  35]\n",
            " [ 44 196  90  27 148  40]\n",
            " [ 49 119  80  35 148  29]\n",
            " [ 55 143  94  33 146  37]\n",
            " [ 39 125  70  26 115  31]\n",
            " [ 75 147  76  27 148  39]\n",
            " [ 57 145  82  19 110  22]\n",
            " [ 52 117  92  27 148  34]\n",
            " [ 49 109  75  26 148  36]\n",
            " [ 23 158  76  36 245  32]\n",
            " [ 63  88  58  11  54  25]\n",
            " [ 59  92  92  27 148  20]\n",
            " [ 46 122  78  31 148  28]\n",
            " [ 52 138  76  27 148  33]\n",
            " [ 25 102  76  37 148  33]\n",
            " [ 19  90  68  42 148  38]\n",
            " [ 54 111  72  47 207  37]\n",
            " [ 61 133  84  27 148  40]\n",
            " [ 46 106  92  18 148  23]\n",
            " [ 39 159  64  27 148  27]\n",
            " [ 52 180  66  39 148  42]\n",
            " [ 56 146  56  27 148  30]\n",
            " [ 66 103  66  32 148  39]\n",
            " [ 62 105  73  27 148   0]\n",
            " [ 49 103  60  33 192  24]\n",
            " [ 45 171 110  24 240  45]\n",
            " [ 42 180  64  25  70  34]\n",
            " [ 44  97  66  15 140  23]\n",
            " [ 47  71  70  27 148  28]\n",
            " [ 41 187  68  39 304  38]\n",
            " [ 55 195  70  33 145  25]\n",
            " [ 59 189  60  23 846  30]\n",
            " [ 50 164  82  43  67  33]\n",
            " [ 51 136  74  26 135  26]\n",
            " [ 50 148  72  35 148  34]\n",
            " [ 47 163  72  41 114  41]\n",
            " [ 58 140  82  43 325  39]\n",
            " [ 60 181  68  36 495  30]\n",
            " [ 51 143  94  33 146  37]\n",
            " [ 54 150  78  29 126  35]\n",
            " [ 58 173  78  32 265  47]\n",
            " [ 45 154  78  30 100  31]\n",
            " [ 55 103  72  32 190  38]\n",
            " [ 42 150  66  42 342  35]\n",
            " [ 23 102  86  36 120  46]\n",
            " [ 24 171  72  33 135  33]\n",
            " [ 28 163  70  18 105  32]\n",
            " [ 43 100  74  40 215  39]\n",
            " [ 52 176  86  27 156  33]\n",
            " [ 53 145  88  34 165  30]\n",
            " [ 45 102  74  40 105  37]\n",
            " [ 46 100  84  33 105  30]\n",
            " [ 53 197  70  45 543  31]\n",
            " [ 33 128  98  41  58  32]\n",
            " [ 50 138  74  26 144  36]\n",
            " [ 51 166  72  19 175  26]\n",
            " [ 48 120  72  22  56  21]\n",
            " [ 58 144  82  26 285  32]\n",
            " [ 34 123  80  15 176  32]\n",
            " [ 29  86  66  52  65  41]\n",
            " [ 21 138  60  35 167  35]\n",
            " [ 33 137  40  35 168  43]\n",
            " [ 26 181  88  44 510  43]\n",
            " [ 25 125  70  24 110  24]\n",
            " [ 25  68  70  32  66  25]\n",
            " [ 52 124  76  24 600  29]\n",
            " [ 46 144  82  46 180  46]\n",
            " [ 26  88  30  42  99  55]\n",
            " [ 54 171 110  24 240  45]\n",
            " [ 58 176  90  34 300  34]\n",
            " [ 23 107  74  30 100  34]\n",
            " [ 40 123  70  44  94  33]\n",
            " [ 49 126  88  36 108  39]\n",
            " [ 56 111  72  47 207  37]\n",
            " [ 57 196  76  29 280  38]\n",
            " [ 63 101  76  48 180  33]\n",
            " [ 81 134  74  33  60  26]\n",
            " [ 51 181  84  21 192  36]\n",
            " [ 40 145  80  46 130  38]\n",
            " [ 60 129  90   7 326  20]\n",
            " [ 43 142  90  24 480  30]\n",
            " [ 39 160  54  32 175  31]\n",
            " [ 61 142  60  33 190  29]\n",
            " [ 39 153  88  37 140  41]\n",
            " [ 53 187  76  27 207  44]\n",
            " [ 40 126  78  27  22  30]\n",
            " [ 40 168  88  42 321  38]\n",
            " [ 57 145  82  19 110  22]\n",
            " [ 37 133  88  15 155  32]\n",
            " [ 51 155  76  28 150  33]\n",
            " [ 45 133 102  28 140  33]\n",
            " [ 51 148  84  48 237  38]\n",
            " [ 47 161  68  23 132  26]\n",
            " [ 44  92  62   7 258  28]\n",
            " [ 45 125  70  18 122  29]\n",
            " [ 39  96  56  34 115  25]\n",
            " [ 33 167  74  17 144  23]\n",
            " [ 48 120  80  37 150  42]\n",
            " [ 42 156  86  28 155  34]\n",
            " [ 49 138  76  27 135  28]\n",
            " [ 77 137  74  34  60  26]\n",
            " [ 52 110  68  25 229  22]\n",
            " [ 42 118  77  32 148  28]\n",
            " [ 60 135  61  32 190  30]\n",
            " [ 42 114  71  42  98  34]\n",
            " [ 27  69  69  30  65  25]\n",
            " [ 54 103  71  32 190  37]\n",
            " [ 48 111  70  20  34  28]\n",
            " [ 45 120  71  28  67  24]\n",
            " [ 52 138  76  23 127  24]\n",
            " [ 25 124  70  24 109  24]\n",
            " [ 59  95  61  13  54  24]\n",
            " [ 47 125  85  37 106  38]\n",
            " [ 57 145  82  19 110  22]\n",
            " [ 45 100  82  33 105  30]\n",
            " [ 37  98  69  22 142  26]\n",
            " [ 24 157  75  36 252  32]\n",
            " [ 59 141  86  13 309  27]\n",
            " [ 53 103  69  32 190  35]\n",
            " [ 44 121  71  31  73  26]\n",
            " [ 41 115  71  42  97  34]\n",
            " [ 55 139  76  27 148  33]\n",
            " [ 40  96  60  33 113  25]\n",
            " [ 48 121  87  35 107  37]\n",
            " [ 41  98  62  36 111  29]\n",
            " [ 45 145  80  35  45  31]\n",
            " [ 52 131  80  27 148  33]\n",
            " [ 44 122  74  24  41  24]\n",
            " [ 56 127  71  39  80  30]\n",
            " [ 52 138  76  27 148  33]\n",
            " [ 72 113  66  23  57  25]\n",
            " [ 46 182  91  28 147  39]\n",
            " [ 37 118  75  19 179  30]\n",
            " [ 56 129  74  32 218  41]\n",
            " [ 49 146  91  34 143  38]\n",
            " [ 57 145  82  19 110  22]\n",
            " [ 54 138  84  24 109  27]\n",
            " [ 60 128  71  38  77  29]\n",
            " [ 49 160  71  37 308  40]\n",
            " [ 45 153  78  29 100  30]\n",
            " [ 52 118  92  27 147  34]\n",
            " [ 51 118  90  26 147  33]\n",
            " [ 36 112  74  35  36  33]\n",
            " [ 34 163  76  34 251  37]\n",
            " [ 43 134  82  33 144  33]]\n",
            "jumlah data =  (166, 6)\n"
          ]
        }
      ],
      "source": [
        "# parameter\n",
        "print(X_over)\n",
        "print(\"jumlah data = \",X_over.shape)"
      ]
    },
    {
      "cell_type": "code",
      "execution_count": null,
      "metadata": {
        "colab": {
          "base_uri": "https://localhost:8080/"
        },
        "id": "Cy82mcKpICT6",
        "outputId": "f7ac447b-4295-4558-95c1-08980521f708"
      },
      "outputs": [
        {
          "output_type": "stream",
          "name": "stdout",
          "text": [
            "[1 1 1 1 1 1 1 1 1 1 1 1 1 1 1 1 1 1 1 1 1 1 0 1 0 1 0 0 0 1 0 0 0 0 0 0 1\n",
            " 1 1 1 1 1 1 1 1 0 1 1 0 1 1 1 1 0 0 1 1 1 1 1 1 0 0 0 0 1 1 1 1 1 1 0 0 1\n",
            " 1 1 1 0 1 0 0 1 1 1 0 0 1 1 1 1 1 0 0 0 1 1 0 0 1 1 0 1 1 0 0 1 0 1 0 1 1\n",
            " 1 1 1 1 1 0 1 1 1 0 0 0 0 0 0 0 0 0 0 0 0 0 0 0 0 0 0 0 0 0 0 0 0 0 0 0 0\n",
            " 0 0 0 0 0 0 0 0 0 0 0 0 0 0 0 0 0 0]\n",
            "jumlah data (166,)\n"
          ]
        }
      ],
      "source": [
        "# target\n",
        "print(Y_over)\n",
        "print('jumlah data', Y_over.shape)"
      ]
    },
    {
      "cell_type": "markdown",
      "metadata": {
        "id": "RbzqJXNxKlhI"
      },
      "source": [
        "## Spliting Data Over"
      ]
    },
    {
      "cell_type": "code",
      "execution_count": null,
      "metadata": {
        "colab": {
          "base_uri": "https://localhost:8080/"
        },
        "id": "FJGMCN4nG0ZX",
        "outputId": "092c4e16-97e5-4502-c01b-75fe368da73f"
      },
      "outputs": [
        {
          "output_type": "stream",
          "name": "stdout",
          "text": [
            "(124, 6)\n",
            "(124,)\n",
            "(42, 6)\n",
            "(42,)\n"
          ]
        }
      ],
      "source": [
        "# spliting data setelah over sampling\n",
        "from sklearn.model_selection import train_test_split\n",
        "X_train_over, X_test_over, y_train_over, y_test_over = train_test_split(X_over, Y_over, test_size = 0.25, random_state = 1 )\n",
        "print(X_train_over.shape)\n",
        "print(y_train_over.shape)\n",
        "print(X_test_over.shape)\n",
        "print(y_test_over.shape)"
      ]
    },
    {
      "cell_type": "code",
      "execution_count": null,
      "metadata": {
        "id": "UN8LlHdYKG_G",
        "colab": {
          "base_uri": "https://localhost:8080/"
        },
        "outputId": "c0a53f0f-6588-4e17-d762-9596ec78d5dd"
      },
      "outputs": [
        {
          "output_type": "stream",
          "name": "stdout",
          "text": [
            "[[ 51 143  94  33 146  37]\n",
            " [ 25  68  70  32  66  25]\n",
            " [ 33 167  74  17 144  23]\n",
            " [ 39 160  54  32 175  31]\n",
            " [ 59 141  86  13 309  27]\n",
            " [ 48 139  80  27 148  27]\n",
            " [ 60 181  68  36 495  30]\n",
            " [ 42 114  71  42  98  34]\n",
            " [ 52 117  92  27 148  34]\n",
            " [ 47 163  72  41 114  41]\n",
            " [ 27  69  69  30  65  25]\n",
            " [ 45 153  78  29 100  30]\n",
            " [ 34 107  74  27 148  30]\n",
            " [ 21 138  60  35 167  35]\n",
            " [ 23 107  74  30 100  34]\n",
            " [ 40 189  60  23 846  30]\n",
            " [ 39  96  56  34 115  25]\n",
            " [ 57 103  30  38  83  43]\n",
            " [ 37  98  69  22 142  26]\n",
            " [ 44  97  66  15 140  23]\n",
            " [ 81 134  74  33  60  26]\n",
            " [ 55 137  40  35 168  43]\n",
            " [ 49 103  60  33 192  24]\n",
            " [ 53 197  70  45 543  31]\n",
            " [ 19  90  68  42 148  38]\n",
            " [ 59  95  61  13  54  24]\n",
            " [ 56 129  74  32 218  41]\n",
            " [ 60 135  61  32 190  30]\n",
            " [ 57 145  82  19 110  22]\n",
            " [ 41  99  84  27 148  35]\n",
            " [ 27 183  64  27 148  23]\n",
            " [ 53 145  88  34 165  30]\n",
            " [ 52 118  92  27 147  34]\n",
            " [ 56  78  50  32  88  31]\n",
            " [ 54 148  72  35 148  34]\n",
            " [ 49 160  71  37 308  40]\n",
            " [ 48 120  72  22  56  21]\n",
            " [ 23 102  86  36 120  46]\n",
            " [ 50 148  72  35 148  34]\n",
            " [ 58 176  90  34 300  34]\n",
            " [ 49 126  88  36 108  39]\n",
            " [ 45 171 110  24 240  45]\n",
            " [ 45 154  78  30 100  31]\n",
            " [ 33 128  98  41  58  32]\n",
            " [ 25 124  70  24 109  24]\n",
            " [ 40 126  78  27  22  30]\n",
            " [ 42 156  86  28 155  34]\n",
            " [ 48 120  80  37 150  42]\n",
            " [ 37 118  75  19 179  30]\n",
            " [ 51 110  92  27 148  38]\n",
            " [ 52 138  76  27 148  33]\n",
            " [ 59  92  92  27 148  20]\n",
            " [ 45 100  82  33 105  30]\n",
            " [ 61 133  84  27 148  40]\n",
            " [ 26 181  88  44 510  43]\n",
            " [ 60 128  71  38  77  29]\n",
            " [ 43 134  82  33 144  33]\n",
            " [ 57 145  82  19 110  22]\n",
            " [ 60 129  90   7 326  20]\n",
            " [ 49 119  80  35 148  29]\n",
            " [ 28 163  70  18 105  32]\n",
            " [ 55 125  96  27 148   0]\n",
            " [ 34 163  76  34 251  37]\n",
            " [ 39 153  88  37 140  41]\n",
            " [ 51 148  84  48 237  38]\n",
            " [ 52 110  68  25 229  22]\n",
            " [ 40  96  60  33 113  25]\n",
            " [ 46 144  82  46 180  46]\n",
            " [ 51 181  84  21 192  36]\n",
            " [ 45 133 102  28 140  33]\n",
            " [ 49 146  91  34 143  38]\n",
            " [ 54 103  71  32 190  37]\n",
            " [ 42 150  66  42 342  35]\n",
            " [ 60 100  73  27 148  30]\n",
            " [ 33 137  40  35 168  43]\n",
            " [ 52 180  66  39 148  42]\n",
            " [ 57 145  82  19 110  22]\n",
            " [ 37 133  88  15 155  32]\n",
            " [ 29  86  66  52  65  41]\n",
            " [ 59 189  60  23 846  30]\n",
            " [ 75 147  76  27 148  39]\n",
            " [ 51 166  72  19 175  26]\n",
            " [ 66 103  66  32 148  39]\n",
            " [ 47 161  68  23 132  26]\n",
            " [ 55 143  94  33 146  37]\n",
            " [ 44 122  74  24  41  24]\n",
            " [ 45  89  66  23  94  28]\n",
            " [ 72 113  66  23  57  25]\n",
            " [ 47  71  70  27 148  28]\n",
            " [ 54 138  84  24 109  27]\n",
            " [ 23 158  76  36 245  32]\n",
            " [ 77 137  74  34  60  26]\n",
            " [ 45 125  70  18 122  29]\n",
            " [ 67 197  70  45 543  31]\n",
            " [ 54 150  78  29 126  35]\n",
            " [ 48 111  70  20  34  28]\n",
            " [ 43  85  66  29 148  27]\n",
            " [ 58 140  82  43 325  39]\n",
            " [ 44 196  90  27 148  40]\n",
            " [ 58 173  78  32 265  47]\n",
            " [ 55 103  72  32 190  38]\n",
            " [ 55 115  73  27 148  35]\n",
            " [ 51 118  90  26 147  33]\n",
            " [ 41 115  71  42  97  34]\n",
            " [ 52 124  76  24 600  29]\n",
            " [ 63 101  76  48 180  33]\n",
            " [ 43 100  74  40 215  39]\n",
            " [ 41 187  68  39 304  38]\n",
            " [ 55 139  76  27 148  33]\n",
            " [ 53 103  69  32 190  35]\n",
            " [ 45 145  80  35  45  31]\n",
            " [ 43 142  90  24 480  30]\n",
            " [ 45 126  88  41 235  39]\n",
            " [ 39 125  70  26 115  31]\n",
            " [ 57 145  82  19 110  22]\n",
            " [ 45 102  74  40 105  37]\n",
            " [ 45 120  71  28  67  24]\n",
            " [ 48 121  87  35 107  37]\n",
            " [ 34 123  80  15 176  32]\n",
            " [ 47 125  85  37 106  38]\n",
            " [ 24 157  75  36 252  32]\n",
            " [ 46 100  84  33 105  30]\n",
            " [ 44 121  71  31  73  26]\n",
            " [ 54 111  72  47 207  37]]\n",
            "jumlah data traning 124\n"
          ]
        }
      ],
      "source": [
        "# jumlah data parameter unutk traning\n",
        "print(X_train_over)\n",
        "print(\"jumlah data traning\",len(X_train_over))"
      ]
    },
    {
      "cell_type": "code",
      "execution_count": null,
      "metadata": {
        "id": "LWTH4jbtKS-K",
        "colab": {
          "base_uri": "https://localhost:8080/"
        },
        "outputId": "28597eb8-ba7f-4df7-8c03-4b775f145c25"
      },
      "outputs": [
        {
          "output_type": "stream",
          "name": "stdout",
          "text": [
            "[[ 62 105  73  27 148   0]\n",
            " [ 42 180  64  25  70  34]\n",
            " [ 52 138  76  27 148  33]\n",
            " [ 24 171  72  33 135  33]\n",
            " [ 46 182  91  28 147  39]\n",
            " [ 49 168  74  27 148  38]\n",
            " [ 58 144  82  26 285  32]\n",
            " [ 25 102  76  37 148  33]\n",
            " [ 40 145  80  46 130  38]\n",
            " [ 48 166  72  19 175  26]\n",
            " [ 49 138  76  27 135  28]\n",
            " [ 61 142  60  33 190  29]\n",
            " [ 56 111  72  47 207  37]\n",
            " [ 58 115  70  30  96  35]\n",
            " [ 44  92  62   7 258  28]\n",
            " [ 42 118  77  32 148  28]\n",
            " [ 52 176  86  27 156  33]\n",
            " [ 52 131  80  27 148  33]\n",
            " [ 26  88  30  42  99  55]\n",
            " [ 25 125  70  24 110  24]\n",
            " [ 40 168  88  42 321  38]\n",
            " [ 49 109  75  26 148  36]\n",
            " [ 46 106  92  18 148  23]\n",
            " [ 52 138  76  23 127  24]\n",
            " [ 51 155  76  28 150  33]\n",
            " [ 51 136  74  26 135  26]\n",
            " [ 57 116  74  27 148  26]\n",
            " [ 54 171 110  24 240  45]\n",
            " [ 57 196  76  29 280  38]\n",
            " [ 65 118  84  47 230  46]\n",
            " [ 63  88  58  11  54  25]\n",
            " [ 50 164  82  43  67  33]\n",
            " [ 39 159  64  27 148  27]\n",
            " [ 50 138  74  26 144  36]\n",
            " [ 53 187  76  27 207  44]\n",
            " [ 56 146  56  27 148  30]\n",
            " [ 41  98  62  36 111  29]\n",
            " [ 55 195  70  33 145  25]\n",
            " [ 40 123  70  44  94  33]\n",
            " [ 56 127  71  39  80  30]\n",
            " [ 36 112  74  35  36  33]\n",
            " [ 46 122  78  31 148  28]]\n",
            "jumlah data testing 42\n"
          ]
        }
      ],
      "source": [
        "# jumlah parameter untuk testing\n",
        "print(X_test_over)\n",
        "print(\"jumlah data testing\",len(X_test_over))"
      ]
    },
    {
      "cell_type": "code",
      "execution_count": null,
      "metadata": {
        "colab": {
          "base_uri": "https://localhost:8080/"
        },
        "id": "1ptv2DG5KZvM",
        "outputId": "e60a39e6-f6c3-4d44-9079-e28a6fef20cc"
      },
      "outputs": [
        {
          "output_type": "stream",
          "name": "stdout",
          "text": [
            "[1 0 1 1 0 1 1 0 0 1 0 0 1 1 0 1 0 1 0 0 0 1 0 1 1 0 0 0 0 1 1 1 0 1 1 0 0\n",
            " 1 1 1 0 1 0 1 0 0 1 1 0 1 0 0 0 1 1 0 0 0 0 1 1 1 0 0 1 0 0 1 1 1 0 0 0 1\n",
            " 1 1 0 1 0 1 0 1 1 1 0 0 1 0 1 0 0 0 1 1 1 0 1 1 0 0 0 1 0 0 1 0 1 1 0 0 0\n",
            " 1 1 1 0 0 0 0 0 0 0 0 0 1]\n",
            "jumlah data traning 124\n"
          ]
        }
      ],
      "source": [
        "# jumlah data untuk target traning\n",
        "print(y_train_over)\n",
        "print(\"jumlah data traning\",len(y_train_over))"
      ]
    },
    {
      "cell_type": "code",
      "execution_count": null,
      "metadata": {
        "colab": {
          "base_uri": "https://localhost:8080/"
        },
        "id": "5DJ9Sf6tKcn9",
        "outputId": "f1313325-f710-46b3-e840-915570313c47"
      },
      "outputs": [
        {
          "output_type": "stream",
          "name": "stdout",
          "text": [
            "[1 1 0 1 0 1 1 0 1 1 0 0 1 1 1 0 1 0 1 0 1 1 1 0 1 0 1 1 1 1 0 0 1 1 1 1 0\n",
            " 1 0 0 0 0]\n",
            "jumlah data testing 42\n"
          ]
        }
      ],
      "source": [
        "# jumlah data untuk target testing\n",
        "print(y_test_over)\n",
        "print(\"jumlah data testing\",len(y_test_over))"
      ]
    },
    {
      "cell_type": "code",
      "source": [
        "# # AKURASI DATA OVER\n",
        "\n",
        "# from sklearn.metrics import classification_report, accuracy_score, confusion_matrix\n",
        "# prediction_data_over = oversampled_df.predict(X_test_over)\n",
        "# accuracies_data_over = accuracy_score(y_test_over, prediction_data_over)\n",
        "# print(prediction_data_over)\n",
        "# print(accuracies_data_over)"
      ],
      "metadata": {
        "id": "pabVMFGS6ZQ5"
      },
      "execution_count": null,
      "outputs": []
    },
    {
      "cell_type": "code",
      "source": [
        "# # AKURASI DATA OVER\n",
        "# from sklearn.metrics import classification_report, accuracy_score, confusion_matrix\n",
        "\n",
        "# prediction_data_over = oversampled_df.predict(X_test_over)\n",
        "\n",
        "# accuracies_data_over = accuracy_score(y_test_over, prediction_data_over)\n",
        "\n",
        "# print(prediction_data_over)\n",
        "# print(accuracies_data_over)"
      ],
      "metadata": {
        "id": "GYlAwfWsfrv5"
      },
      "execution_count": null,
      "outputs": []
    },
    {
      "cell_type": "code",
      "execution_count": null,
      "metadata": {
        "id": "-0_cawl2PMsp"
      },
      "outputs": [],
      "source": [
        "# from sklearn.model_selection import KFold\n",
        "\n",
        "# # Data sebanyak 166\n",
        "# data = range(74)\n",
        "# # data = oversampled_df\n",
        "\n",
        "# # Jumlah fold (K) yang diinginkan\n",
        "# k = 5\n",
        "\n",
        "# # Membuat objek KFold\n",
        "# kf = KFold(n_splits=k)\n",
        "\n",
        "# # Melakukan split data menggunakan K-Fold Cross Validation\n",
        "# fold = 1\n",
        "# for train_index, test_index in kf.split(data):\n",
        "#     train_data = [data[i] for i in train_index]\n",
        "#     test_data = [data[i] for i in test_index]\n",
        "    \n",
        "#     # Menampilkan hasil split\n",
        "#     print(f\"Fold {fold}:\")\n",
        "#     print(\"Train data:\", train_data)\n",
        "#     print(\"Test data:\", test_data)\n",
        "#     print()\n",
        "    \n",
        "#     fold += 1\n"
      ]
    },
    {
      "cell_type": "markdown",
      "metadata": {
        "id": "XASRGyHGGR2U"
      },
      "source": [
        "## Under Sampling"
      ]
    },
    {
      "cell_type": "code",
      "execution_count": null,
      "metadata": {
        "id": "lLLI5QcBVkzz",
        "colab": {
          "base_uri": "https://localhost:8080/"
        },
        "outputId": "2cb0ddde-34c0-4d7f-f75e-c1e716075cdf"
      },
      "outputs": [
        {
          "output_type": "stream",
          "name": "stdout",
          "text": [
            "Jumlah sampel setelah oversampling:\n",
            "0    37\n",
            "1    37\n",
            "Name: Penyakit, dtype: int64\n",
            "    Usia  Glukosa  Tekanan_darah  Ketebalan_kulit  Insulin  BMI  Penyakit\n",
            "0     44      196             90               27      148   40         0\n",
            "1     55      143             94               33      146   37         0\n",
            "2     75      147             76               27      148   39         0\n",
            "3     57      145             82               19      110   22         0\n",
            "4     52      117             92               27      148   34         0\n",
            "..   ...      ...            ...              ...      ...  ...       ...\n",
            "69    53      187             76               27      207   44         1\n",
            "70    44       92             62                7      258   28         1\n",
            "71    46      106             92               18      148   23         1\n",
            "72    48      139             80               27      148   27         1\n",
            "73    26      181             88               44      510   43         1\n",
            "\n",
            "[74 rows x 7 columns]\n"
          ]
        }
      ],
      "source": [
        "import pandas as pd\n",
        "from imblearn.under_sampling import RandomUnderSampler\n",
        "\n",
        "# Contoh DataFrame dengan kolom target\n",
        "data = df\n",
        "\n",
        "# Memisahkan fitur dan target\n",
        "target = 'Penyakit'\n",
        "X = df.drop(target, axis=1)\n",
        "y = df[target]\n",
        "\n",
        "\n",
        "# Menerapkan Random Under-sampling\n",
        "rus = RandomUnderSampler()\n",
        "X_resampled, y_resampled = rus.fit_resample(X, y)\n",
        "\n",
        "# Menampilkan hasil undersampling\n",
        "undersampled_df = pd.concat([pd.DataFrame(X_resampled, columns=X.columns), pd.Series(y_resampled, name='Penyakit')], axis=1)\n",
        "print(\"Jumlah sampel setelah oversampling:\")\n",
        "print(y_resampled.value_counts())\n",
        "print(undersampled_df)"
      ]
    },
    {
      "cell_type": "code",
      "execution_count": null,
      "metadata": {
        "id": "mvDzR4C-V-UZ",
        "colab": {
          "base_uri": "https://localhost:8080/",
          "height": 472
        },
        "outputId": "f28f4aea-3bcc-4520-e781-f748b1f272e9"
      },
      "outputs": [
        {
          "output_type": "display_data",
          "data": {
            "text/plain": [
              "<Figure size 640x480 with 1 Axes>"
            ],
            "image/png": "[encoded data removed]"
          },
          "metadata": {}
        }
      ],
      "source": [
        "import matplotlib.pyplot as plt\n",
        "\n",
        "dt_oversampled = undersampled_df.groupby(\"Penyakit\")\n",
        "diabet_balanced = dt_oversampled['Penyakit'].count()[1]\n",
        "bukan_balanced = dt_oversampled['Penyakit'].count()[0]\n",
        "\n",
        "def tampilkan_visualisasi(jumlah_diabet, jumlah_bukan):\n",
        "    labels = ['1','0']\n",
        "    jumlah_label = [jumlah_diabet, jumlah_bukan]\n",
        "    colors = ['#1f77b4', '#ff7f0e']\n",
        "\n",
        "    plt.bar(labels, jumlah_label, color=colors)\n",
        "    plt.xlabel('Penyakit')\n",
        "    plt.ylabel('Jumlah')\n",
        "    plt.title('Balanced Data')\n",
        "\n",
        "    plt.show()\n",
        "\n",
        "tampilkan_visualisasi(diabet_balanced, bukan_balanced)"
      ]
    },
    {
      "cell_type": "code",
      "execution_count": null,
      "metadata": {
        "id": "bAcAMywQI3wJ"
      },
      "outputs": [],
      "source": [
        "X_under = undersampled_df.iloc[:,0:-1].values\n",
        "Y_under = undersampled_df.iloc[:, -1].values"
      ]
    },
    {
      "cell_type": "code",
      "execution_count": null,
      "metadata": {
        "id": "8OZIiEutJCRH",
        "colab": {
          "base_uri": "https://localhost:8080/"
        },
        "outputId": "efcf7284-76f4-4124-ef56-573f2d34df44"
      },
      "outputs": [
        {
          "output_type": "stream",
          "name": "stdout",
          "text": [
            "[[ 44 196  90  27 148  40]\n",
            " [ 55 143  94  33 146  37]\n",
            " [ 75 147  76  27 148  39]\n",
            " [ 57 145  82  19 110  22]\n",
            " [ 52 117  92  27 148  34]\n",
            " [ 23 158  76  36 245  32]\n",
            " [ 63  88  58  11  54  25]\n",
            " [ 59  92  92  27 148  20]\n",
            " [ 46 122  78  31 148  28]\n",
            " [ 52 138  76  27 148  33]\n",
            " [ 25 102  76  37 148  33]\n",
            " [ 49 103  60  33 192  24]\n",
            " [ 44  97  66  15 140  23]\n",
            " [ 50 164  82  43  67  33]\n",
            " [ 51 136  74  26 135  26]\n",
            " [ 58 173  78  32 265  47]\n",
            " [ 45 154  78  30 100  31]\n",
            " [ 55 103  72  32 190  38]\n",
            " [ 42 150  66  42 342  35]\n",
            " [ 45 102  74  40 105  37]\n",
            " [ 46 100  84  33 105  30]\n",
            " [ 48 120  72  22  56  21]\n",
            " [ 34 123  80  15 176  32]\n",
            " [ 29  86  66  52  65  41]\n",
            " [ 25 125  70  24 110  24]\n",
            " [ 25  68  70  32  66  25]\n",
            " [ 23 107  74  30 100  34]\n",
            " [ 40 123  70  44  94  33]\n",
            " [ 49 126  88  36 108  39]\n",
            " [ 63 101  76  48 180  33]\n",
            " [ 81 134  74  33  60  26]\n",
            " [ 60 129  90   7 326  20]\n",
            " [ 61 142  60  33 190  29]\n",
            " [ 39 153  88  37 140  41]\n",
            " [ 40 126  78  27  22  30]\n",
            " [ 57 145  82  19 110  22]\n",
            " [ 39  96  56  34 115  25]\n",
            " [ 50 138  74  26 144  36]\n",
            " [ 66 103  66  32 148  39]\n",
            " [ 53 197  70  45 543  31]\n",
            " [ 60 100  73  27 148  30]\n",
            " [ 33 137  40  35 168  43]\n",
            " [ 46 144  82  46 180  46]\n",
            " [ 40 189  60  23 846  30]\n",
            " [ 54 148  72  35 148  34]\n",
            " [ 67 197  70  45 543  31]\n",
            " [ 54 111  72  47 207  37]\n",
            " [ 49 119  80  35 148  29]\n",
            " [ 21 138  60  35 167  35]\n",
            " [ 42 180  64  25  70  34]\n",
            " [ 45 171 110  24 240  45]\n",
            " [ 33 167  74  17 144  23]\n",
            " [ 52 124  76  24 600  29]\n",
            " [ 50 148  72  35 148  34]\n",
            " [ 19  90  68  42 148  38]\n",
            " [ 40 145  80  46 130  38]\n",
            " [ 43 100  74  40 215  39]\n",
            " [ 39 160  54  32 175  31]\n",
            " [ 59 189  60  23 846  30]\n",
            " [ 43  85  66  29 148  27]\n",
            " [ 40 168  88  42 321  38]\n",
            " [ 47 161  68  23 132  26]\n",
            " [ 24 171  72  33 135  33]\n",
            " [ 33 128  98  41  58  32]\n",
            " [ 51 155  76  28 150  33]\n",
            " [ 51 143  94  33 146  37]\n",
            " [ 26  88  30  42  99  55]\n",
            " [ 48 120  80  37 150  42]\n",
            " [ 55 125  96  27 148   0]\n",
            " [ 53 187  76  27 207  44]\n",
            " [ 44  92  62   7 258  28]\n",
            " [ 46 106  92  18 148  23]\n",
            " [ 48 139  80  27 148  27]\n",
            " [ 26 181  88  44 510  43]]\n",
            "jumlah data =  (74, 6)\n"
          ]
        }
      ],
      "source": [
        "# parameter\n",
        "print(X_under)\n",
        "print(\"jumlah data = \",X_under.shape)"
      ]
    },
    {
      "cell_type": "code",
      "execution_count": null,
      "metadata": {
        "id": "2jVpRLbQJHNa",
        "colab": {
          "base_uri": "https://localhost:8080/"
        },
        "outputId": "0d1b9fa9-70b4-4f92-ce9f-f3bcb9d68958"
      },
      "outputs": [
        {
          "output_type": "stream",
          "name": "stdout",
          "text": [
            "[0 0 0 0 0 0 0 0 0 0 0 0 0 0 0 0 0 0 0 0 0 0 0 0 0 0 0 0 0 0 0 0 0 0 0 0 0\n",
            " 1 1 1 1 1 1 1 1 1 1 1 1 1 1 1 1 1 1 1 1 1 1 1 1 1 1 1 1 1 1 1 1 1 1 1 1 1]\n",
            "jumlah data (74,)\n"
          ]
        }
      ],
      "source": [
        "# target\n",
        "print(Y_under)\n",
        "print('jumlah data', Y_under.shape)"
      ]
    },
    {
      "cell_type": "markdown",
      "metadata": {
        "id": "aPWbFXwEKu-Z"
      },
      "source": [
        "## Spliting Data Under"
      ]
    },
    {
      "cell_type": "code",
      "execution_count": null,
      "metadata": {
        "id": "XepkcDuvGo8U",
        "colab": {
          "base_uri": "https://localhost:8080/"
        },
        "outputId": "1f5c0b4e-1eed-4d09-ee7e-f4c816ec4a83"
      },
      "outputs": [
        {
          "output_type": "stream",
          "name": "stdout",
          "text": [
            "(55, 6)\n",
            "(55,)\n",
            "(19, 6)\n",
            "(19,)\n"
          ]
        }
      ],
      "source": [
        "# membuat data traning dan data testing dari dataset setelah under sampling\n",
        "from sklearn.model_selection import train_test_split\n",
        "X_train_under, X_test_under, y_train_under, y_test_under = train_test_split(X_under, Y_under, test_size = 0.25, random_state = 1 )\n",
        "print(X_train_under.shape)\n",
        "print(y_train_under.shape)\n",
        "print(X_test_under.shape)\n",
        "print(y_test_under.shape)"
      ]
    },
    {
      "cell_type": "code",
      "execution_count": null,
      "metadata": {
        "id": "zYH0H8v4LAL2",
        "colab": {
          "base_uri": "https://localhost:8080/"
        },
        "outputId": "7c6c5d28-8ccc-417b-a9a0-f9c868dd1a73"
      },
      "outputs": [
        {
          "output_type": "stream",
          "name": "stdout",
          "text": [
            "[[ 55 125  96  27 148   0]\n",
            " [ 43  85  66  29 148  27]\n",
            " [ 48 139  80  27 148  27]\n",
            " [ 59 189  60  23 846  30]\n",
            " [ 43 100  74  40 215  39]\n",
            " [ 39  96  56  34 115  25]\n",
            " [ 52 124  76  24 600  29]\n",
            " [ 60 129  90   7 326  20]\n",
            " [ 51 143  94  33 146  37]\n",
            " [ 66 103  66  32 148  39]\n",
            " [ 48 120  72  22  56  21]\n",
            " [ 26  88  30  42  99  55]\n",
            " [ 57 145  82  19 110  22]\n",
            " [ 39 160  54  32 175  31]\n",
            " [ 21 138  60  35 167  35]\n",
            " [ 47 161  68  23 132  26]\n",
            " [ 67 197  70  45 543  31]\n",
            " [ 25 125  70  24 110  24]\n",
            " [ 46 122  78  31 148  28]\n",
            " [ 55 103  72  32 190  38]\n",
            " [ 44 196  90  27 148  40]\n",
            " [ 48 120  80  37 150  42]\n",
            " [ 54 111  72  47 207  37]\n",
            " [ 59  92  92  27 148  20]\n",
            " [ 46 106  92  18 148  23]\n",
            " [ 42 180  64  25  70  34]\n",
            " [ 50 164  82  43  67  33]\n",
            " [ 34 123  80  15 176  32]\n",
            " [ 61 142  60  33 190  29]\n",
            " [ 81 134  74  33  60  26]\n",
            " [ 33 137  40  35 168  43]\n",
            " [ 33 167  74  17 144  23]\n",
            " [ 29  86  66  52  65  41]\n",
            " [ 52 117  92  27 148  34]\n",
            " [ 53 187  76  27 207  44]\n",
            " [ 51 136  74  26 135  26]\n",
            " [ 63 101  76  48 180  33]\n",
            " [ 49 126  88  36 108  39]\n",
            " [ 46 144  82  46 180  46]\n",
            " [ 49 103  60  33 192  24]\n",
            " [ 33 128  98  41  58  32]\n",
            " [ 42 150  66  42 342  35]\n",
            " [ 26 181  88  44 510  43]\n",
            " [ 24 171  72  33 135  33]\n",
            " [ 46 100  84  33 105  30]\n",
            " [ 45 171 110  24 240  45]\n",
            " [ 25  68  70  32  66  25]\n",
            " [ 63  88  58  11  54  25]\n",
            " [ 55 143  94  33 146  37]\n",
            " [ 45 154  78  30 100  31]\n",
            " [ 51 155  76  28 150  33]\n",
            " [ 23 158  76  36 245  32]\n",
            " [ 52 138  76  27 148  33]\n",
            " [ 44  97  66  15 140  23]\n",
            " [ 50 138  74  26 144  36]]\n",
            "jumlah data traning 55\n"
          ]
        }
      ],
      "source": [
        "# jumlah data parameter unutk traning\n",
        "print(X_train_under)\n",
        "print(\"jumlah data traning\",len(X_train_under))"
      ]
    },
    {
      "cell_type": "code",
      "execution_count": null,
      "metadata": {
        "id": "3Niby4ryLHkJ",
        "colab": {
          "base_uri": "https://localhost:8080/"
        },
        "outputId": "98566d5c-9a71-42bd-d7f5-2956bbdae249"
      },
      "outputs": [
        {
          "output_type": "stream",
          "name": "stdout",
          "text": [
            "[[ 45 102  74  40 105  37]\n",
            " [ 40 145  80  46 130  38]\n",
            " [ 25 102  76  37 148  33]\n",
            " [ 44  92  62   7 258  28]\n",
            " [ 19  90  68  42 148  38]\n",
            " [ 23 107  74  30 100  34]\n",
            " [ 60 100  73  27 148  30]\n",
            " [ 39 153  88  37 140  41]\n",
            " [ 40 126  78  27  22  30]\n",
            " [ 40 168  88  42 321  38]\n",
            " [ 54 148  72  35 148  34]\n",
            " [ 49 119  80  35 148  29]\n",
            " [ 75 147  76  27 148  39]\n",
            " [ 50 148  72  35 148  34]\n",
            " [ 40 123  70  44  94  33]\n",
            " [ 53 197  70  45 543  31]\n",
            " [ 58 173  78  32 265  47]\n",
            " [ 40 189  60  23 846  30]\n",
            " [ 57 145  82  19 110  22]]\n",
            "jumlah data testing 19\n"
          ]
        }
      ],
      "source": [
        "# jumlah parameter untuk testing\n",
        "print(X_test_under)\n",
        "print(\"jumlah data testing\",len(X_test_under))"
      ]
    },
    {
      "cell_type": "code",
      "execution_count": null,
      "metadata": {
        "id": "GFnVTiAzLNIo",
        "colab": {
          "base_uri": "https://localhost:8080/"
        },
        "outputId": "c01d5818-e2d6-4e41-f58c-474339b0b86c"
      },
      "outputs": [
        {
          "output_type": "stream",
          "name": "stdout",
          "text": [
            "[1 1 1 1 1 0 1 0 1 1 0 1 0 1 1 1 1 0 0 0 0 1 1 0 1 1 0 0 0 0 1 1 0 0 1 0 0\n",
            " 0 1 0 1 0 1 1 0 1 0 0 0 0 1 0 0 0 1]\n",
            "jumlah data traning 55\n"
          ]
        }
      ],
      "source": [
        "# jumlah data untuk target traning\n",
        "print(y_train_under)\n",
        "print(\"jumlah data traning\",len(y_train_under))"
      ]
    },
    {
      "cell_type": "code",
      "execution_count": null,
      "metadata": {
        "id": "MPddW_pVLSjw",
        "colab": {
          "base_uri": "https://localhost:8080/"
        },
        "outputId": "9493027b-409f-46a1-e509-9817f3f0db20"
      },
      "outputs": [
        {
          "output_type": "stream",
          "name": "stdout",
          "text": [
            "[0 1 0 1 1 0 1 0 0 1 1 1 0 1 0 1 0 1 0]\n",
            "jumlah data testing 19\n"
          ]
        }
      ],
      "source": [
        "# jumlah dat untuk target testing\n",
        "print(y_test_under)\n",
        "print(\"jumlah data testing\",len(y_test_under))"
      ]
    },
    {
      "cell_type": "code",
      "source": [
        "# #AKURASI DATA UNDER\n",
        "# from sklearn.metrics import classification_report, accuracy_score, confusion_matrix\n",
        "# prediction_data_under = undersampled_df.predict(X_test_under)\n",
        "# accuracies_data_under = accuracy_score(y_test_under, prediction_data_under)\n",
        "\n",
        "# print(prediction_data_under)\n",
        "# print(accuracies_data_under)"
      ],
      "metadata": {
        "id": "rDACl5vF4c8b"
      },
      "execution_count": null,
      "outputs": []
    },
    {
      "cell_type": "markdown",
      "metadata": {
        "id": "8k-5LJP3T-Ok"
      },
      "source": [
        "# MODEL NAIVE BAYES"
      ]
    },
    {
      "cell_type": "markdown",
      "source": [
        "# naive bayes OVER"
      ],
      "metadata": {
        "id": "ynvtzTzGOP2L"
      }
    },
    {
      "cell_type": "code",
      "execution_count": null,
      "metadata": {
        "id": "8Kaj8JCX3hgY",
        "colab": {
          "base_uri": "https://localhost:8080/",
          "height": 74
        },
        "outputId": "8693a1cf-9478-474b-b708-5b684255a57f"
      },
      "outputs": [
        {
          "output_type": "execute_result",
          "data": {
            "text/plain": [
              "GaussianNB()"
            ],
            "text/html": [
              "<style>#sk-container-id-156 {color: black;background-color: white;}#sk-container-id-156 pre{padding: 0;}#sk-container-id-156 div.sk-toggleable {background-color: white;}#sk-container-id-156 label.sk-toggleable__label {cursor: pointer;display: block;width: 100%;margin-bottom: 0;padding: 0.3em;box-sizing: border-box;text-align: center;}#sk-container-id-156 label.sk-toggleable__label-arrow:before {content: \"▸\";float: left;margin-right: 0.25em;color: #696969;}#sk-container-id-156 label.sk-toggleable__label-arrow:hover:before {color: black;}#sk-container-id-156 div.sk-estimator:hover label.sk-toggleable__label-arrow:before {color: black;}#sk-container-id-156 div.sk-toggleable__content {max-height: 0;max-width: 0;overflow: hidden;text-align: left;background-color: #f0f8ff;}#sk-container-id-156 div.sk-toggleable__content pre {margin: 0.2em;color: black;border-radius: 0.25em;background-color: #f0f8ff;}#sk-container-id-156 input.sk-toggleable__control:checked~div.sk-toggleable__content {max-height: 200px;max-width: 100%;overflow: auto;}#sk-container-id-156 input.sk-toggleable__control:checked~label.sk-toggleable__label-arrow:before {content: \"▾\";}#sk-container-id-156 div.sk-estimator input.sk-toggleable__control:checked~label.sk-toggleable__label {background-color: #d4ebff;}#sk-container-id-156 div.sk-label input.sk-toggleable__control:checked~label.sk-toggleable__label {background-color: #d4ebff;}#sk-container-id-156 input.sk-hidden--visually {border: 0;clip: rect(1px 1px 1px 1px);clip: rect(1px, 1px, 1px, 1px);height: 1px;margin: -1px;overflow: hidden;padding: 0;position: absolute;width: 1px;}#sk-container-id-156 div.sk-estimator {font-family: monospace;background-color: #f0f8ff;border: 1px dotted black;border-radius: 0.25em;box-sizing: border-box;margin-bottom: 0.5em;}#sk-container-id-156 div.sk-estimator:hover {background-color: #d4ebff;}#sk-container-id-156 div.sk-parallel-item::after {content: \"\";width: 100%;border-bottom: 1px solid gray;flex-grow: 1;}#sk-container-id-156 div.sk-label:hover label.sk-toggleable__label {background-color: #d4ebff;}#sk-container-id-156 div.sk-serial::before {content: \"\";position: absolute;border-left: 1px solid gray;box-sizing: border-box;top: 0;bottom: 0;left: 50%;z-index: 0;}#sk-container-id-156 div.sk-serial {display: flex;flex-direction: column;align-items: center;background-color: white;padding-right: 0.2em;padding-left: 0.2em;position: relative;}#sk-container-id-156 div.sk-item {position: relative;z-index: 1;}#sk-container-id-156 div.sk-parallel {display: flex;align-items: stretch;justify-content: center;background-color: white;position: relative;}#sk-container-id-156 div.sk-item::before, #sk-container-id-156 div.sk-parallel-item::before {content: \"\";position: absolute;border-left: 1px solid gray;box-sizing: border-box;top: 0;bottom: 0;left: 50%;z-index: -1;}#sk-container-id-156 div.sk-parallel-item {display: flex;flex-direction: column;z-index: 1;position: relative;background-color: white;}#sk-container-id-156 div.sk-parallel-item:first-child::after {align-self: flex-end;width: 50%;}#sk-container-id-156 div.sk-parallel-item:last-child::after {align-self: flex-start;width: 50%;}#sk-container-id-156 div.sk-parallel-item:only-child::after {width: 0;}#sk-container-id-156 div.sk-dashed-wrapped {border: 1px dashed gray;margin: 0 0.4em 0.5em 0.4em;box-sizing: border-box;padding-bottom: 0.4em;background-color: white;}#sk-container-id-156 div.sk-label label {font-family: monospace;font-weight: bold;display: inline-block;line-height: 1.2em;}#sk-container-id-156 div.sk-label-container {text-align: center;}#sk-container-id-156 div.sk-container {/* jupyter's `normalize.less` sets `[hidden] { display: none; }` but bootstrap.min.css set `[hidden] { display: none !important; }` so we also need the `!important` here to be able to override the default hidden behavior on the sphinx rendered scikit-learn.org. See: https://github.com/scikit-learn/scikit-learn/issues/21755 */display: inline-block !important;position: relative;}#sk-container-id-156 div.sk-text-repr-fallback {display: none;}</style><div id=\"sk-container-id-156\" class=\"sk-top-container\"><div class=\"sk-text-repr-fallback\"><pre>GaussianNB()</pre><b>In a Jupyter environment, please rerun this cell to show the HTML representation or trust the notebook. <br />On GitHub, the HTML representation is unable to render, please try loading this page with nbviewer.org.</b></div><div class=\"sk-container\" hidden><div class=\"sk-item\"><div class=\"sk-estimator sk-toggleable\"><input class=\"sk-toggleable__control sk-hidden--visually\" id=\"sk-estimator-id-156\" type=\"checkbox\" checked><label for=\"sk-estimator-id-156\" class=\"sk-toggleable__label sk-toggleable__label-arrow\">GaussianNB</label><div class=\"sk-toggleable__content\"><pre>GaussianNB()</pre></div></div></div></div></div>"
            ]
          },
          "metadata": {},
          "execution_count": 1738
        }
      ],
      "source": [
        "# membangun mode NBC denegan over sampling\n",
        "from sklearn.naive_bayes import GaussianNB\n",
        "oversampled_df= GaussianNB()\n",
        "oversampled_df.fit(X_over, Y_over)"
      ]
    },
    {
      "cell_type": "code",
      "execution_count": null,
      "metadata": {
        "id": "dK1iWxO-aL1O",
        "colab": {
          "base_uri": "https://localhost:8080/"
        },
        "outputId": "a5eefb91-e0e6-4217-fd47-31a92465ff35"
      },
      "outputs": [
        {
          "output_type": "stream",
          "name": "stdout",
          "text": [
            "[1 1 0 0 1 0 1 0 0 0 0 0 0 0 1 0 1 0 1 0 1 0 0 0 0 0 0 1 1 1 0 0 0 0 1 0 0\n",
            " 1 0 0 0 0]\n",
            "0.6666666666666666\n"
          ]
        }
      ],
      "source": [
        "# prediksi terhadap model traning yang telah dibuat untuk OVER\n",
        "from sklearn.metrics import classification_report, accuracy_score, confusion_matrix, precision_score, recall_score, f1_score\n",
        "prediction_over = oversampled_df.predict(X_test_over)\n",
        "accuracies_over = accuracy_score(y_test_over, prediction_over)\n",
        "\n",
        "print(prediction_over)\n",
        "print(accuracies_over)"
      ]
    },
    {
      "cell_type": "code",
      "source": [
        "# menampilkan matrix konfusi over sampling\n",
        "print(confusion_matrix(y_test_over, prediction_over))"
      ],
      "metadata": {
        "colab": {
          "base_uri": "https://localhost:8080/"
        },
        "id": "hXEpfhbMUWah",
        "outputId": "f71c0a69-bab6-45ac-eda2-6b3e2c881455"
      },
      "execution_count": null,
      "outputs": [
        {
          "output_type": "stream",
          "name": "stdout",
          "text": [
            "[[16  1]\n",
            " [13 12]]\n"
          ]
        }
      ]
    },
    {
      "cell_type": "code",
      "source": [
        "# akurasi OVER\n",
        "akurasi_over = classification_report(y_test_over, prediction_over)\n",
        "print(akurasi_over)"
      ],
      "metadata": {
        "colab": {
          "base_uri": "https://localhost:8080/"
        },
        "id": "0BKsEcjSSv0m",
        "outputId": "b7d2fd80-3457-4d3f-f300-661a69536cbc"
      },
      "execution_count": null,
      "outputs": [
        {
          "output_type": "stream",
          "name": "stdout",
          "text": [
            "              precision    recall  f1-score   support\n",
            "\n",
            "           0       0.55      0.94      0.70        17\n",
            "           1       0.92      0.48      0.63        25\n",
            "\n",
            "    accuracy                           0.67        42\n",
            "   macro avg       0.74      0.71      0.66        42\n",
            "weighted avg       0.77      0.67      0.66        42\n",
            "\n"
          ]
        }
      ]
    },
    {
      "cell_type": "code",
      "execution_count": null,
      "metadata": {
        "id": "JVWBIacli0GC"
      },
      "outputs": [],
      "source": [
        "#procedure untuk memetakan matrik konfusi\n",
        "def plot_confusion_matrix(y_true,y_pred,classes,\n",
        "                          normalize=False,\n",
        "                          title=None,\n",
        "                          cmap=plt.cm.Blues):\n",
        "    if not title:\n",
        "      if normalize:\n",
        "        title = 'Normalized confusion matrix'\n",
        "      else:\n",
        "        title = \"confussion matrix, without normalization\"\n",
        "  \n",
        "    # compute confusion matrix\n",
        "    cm = confusion_matrix(y_true, y_pred)\n",
        "    #only user the labels that appeat in the data\n",
        "    classes = classes[unique_labels(y_true, y_pred)]\n",
        "    if normalize:\n",
        "      cm = cm.astype('float') / cm.sum(axis=1)[:, np.newaxis]\n",
        "      print(\"Normalized confusion matrix\")\n",
        "    else:\n",
        "      print('confussion matrix, without normalization')\n",
        "    \n",
        "    print(cm)\n",
        "\n",
        "    fig, ax = plt.subplots()\n",
        "    im = ax.imshow(cm, interpolation = 'nearest', cmap=cmap)\n",
        "    ax.figure.colorbar(im, ax=ax)\n",
        "    # we want to show all ticks\n",
        "    ax.set(xticks = np.arange(cm.shape[1]),\n",
        "          yticks = np.arange(cm.shape[0]),\n",
        "           # ... and label them with the respective list entries\n",
        "           xticklabels = classes, yticklabels = classes,\n",
        "           title = title,\n",
        "           ylabel = 'True label',\n",
        "           xlabel = 'Predicted label')\n",
        "    \n",
        "    # rotate the tick labels and set their aligment\n",
        "    plt.setp(ax.get_xticklabels(), rotation=45, ha=\"right\",\n",
        "             rotation_mode =\"anchor\")\n",
        "    \n",
        "    # loop over data dimention and create text annotation\n",
        "    fmt = '.2f' if normalize else 'd'\n",
        "    thresh = cm.max()/2.\n",
        "    for i in range(cm.shape[0]):\n",
        "        for j in range(cm.shape[1]):\n",
        "            ax.text(j,i,format(cm[i,j],fmt),\n",
        "                    ha=\"center\", va=\"center\",\n",
        "                    color=\"white\" if cm[i,j]> thresh else \"black\")\n",
        "        fig.tight_layout()\n",
        "    return ax\n"
      ]
    },
    {
      "cell_type": "code",
      "execution_count": null,
      "metadata": {
        "id": "ItcdMPGAppVK",
        "colab": {
          "base_uri": "https://localhost:8080/",
          "height": 1000
        },
        "outputId": "bd2060e7-8219-40a5-cee0-f39e2b92f4ec"
      },
      "outputs": [
        {
          "output_type": "stream",
          "name": "stdout",
          "text": [
            "confussion matrix, without normalization\n",
            "[[16  1]\n",
            " [13 12]]\n",
            "Normalized confusion matrix\n",
            "[[0.94 0.06]\n",
            " [0.52 0.48]]\n"
          ]
        },
        {
          "output_type": "display_data",
          "data": {
            "text/plain": [
              "<Figure size 640x480 with 2 Axes>"
            ],
            "image/png": "[encoded data removed]"
          },
          "metadata": {}
        },
        {
          "output_type": "display_data",
          "data": {
            "text/plain": [
              "<Figure size 640x480 with 2 Axes>"
            ],
            "image/png": "[encoded data removed]"
          },
          "metadata": {}
        }
      ],
      "source": [
        "# visualisasi hasil OVER SAMPLING\n",
        "class_names = Y_over\n",
        "np.set_printoptions(precision=2)\n",
        "\n",
        "# plot non-normalized confusion matrix\n",
        "plot_confusion_matrix(y_test_over, prediction_over, classes=class_names,\n",
        "                      title ='confiusion matrix, without normalization')\n",
        "# plot normalized confusion matrix \n",
        "plot_confusion_matrix(y_test_over, prediction_over, classes=class_names,normalize=True,\n",
        "                      title ='Normalized confiusion matrix')\n",
        "\n",
        "plt.show()"
      ]
    },
    {
      "cell_type": "code",
      "execution_count": null,
      "metadata": {
        "id": "cTKfyJT6KS94"
      },
      "outputs": [],
      "source": [
        "# Menyimpan model NBC OVER\n",
        "import pickle\n",
        "pickle.dump(oversampled_df, open('modelNBC_over.sav', 'wb'))"
      ]
    },
    {
      "cell_type": "markdown",
      "source": [
        "# naive bayes UNDER"
      ],
      "metadata": {
        "id": "x0h5p6XwOV9A"
      }
    },
    {
      "cell_type": "code",
      "execution_count": null,
      "metadata": {
        "id": "YsbyQ9aHP4Tj",
        "colab": {
          "base_uri": "https://localhost:8080/",
          "height": 74
        },
        "outputId": "7d566f38-2d4e-4cbb-d7bd-13c2eb7ce55a"
      },
      "outputs": [
        {
          "output_type": "execute_result",
          "data": {
            "text/plain": [
              "GaussianNB()"
            ],
            "text/html": [
              "<style>#sk-container-id-157 {color: black;background-color: white;}#sk-container-id-157 pre{padding: 0;}#sk-container-id-157 div.sk-toggleable {background-color: white;}#sk-container-id-157 label.sk-toggleable__label {cursor: pointer;display: block;width: 100%;margin-bottom: 0;padding: 0.3em;box-sizing: border-box;text-align: center;}#sk-container-id-157 label.sk-toggleable__label-arrow:before {content: \"▸\";float: left;margin-right: 0.25em;color: #696969;}#sk-container-id-157 label.sk-toggleable__label-arrow:hover:before {color: black;}#sk-container-id-157 div.sk-estimator:hover label.sk-toggleable__label-arrow:before {color: black;}#sk-container-id-157 div.sk-toggleable__content {max-height: 0;max-width: 0;overflow: hidden;text-align: left;background-color: #f0f8ff;}#sk-container-id-157 div.sk-toggleable__content pre {margin: 0.2em;color: black;border-radius: 0.25em;background-color: #f0f8ff;}#sk-container-id-157 input.sk-toggleable__control:checked~div.sk-toggleable__content {max-height: 200px;max-width: 100%;overflow: auto;}#sk-container-id-157 input.sk-toggleable__control:checked~label.sk-toggleable__label-arrow:before {content: \"▾\";}#sk-container-id-157 div.sk-estimator input.sk-toggleable__control:checked~label.sk-toggleable__label {background-color: #d4ebff;}#sk-container-id-157 div.sk-label input.sk-toggleable__control:checked~label.sk-toggleable__label {background-color: #d4ebff;}#sk-container-id-157 input.sk-hidden--visually {border: 0;clip: rect(1px 1px 1px 1px);clip: rect(1px, 1px, 1px, 1px);height: 1px;margin: -1px;overflow: hidden;padding: 0;position: absolute;width: 1px;}#sk-container-id-157 div.sk-estimator {font-family: monospace;background-color: #f0f8ff;border: 1px dotted black;border-radius: 0.25em;box-sizing: border-box;margin-bottom: 0.5em;}#sk-container-id-157 div.sk-estimator:hover {background-color: #d4ebff;}#sk-container-id-157 div.sk-parallel-item::after {content: \"\";width: 100%;border-bottom: 1px solid gray;flex-grow: 1;}#sk-container-id-157 div.sk-label:hover label.sk-toggleable__label {background-color: #d4ebff;}#sk-container-id-157 div.sk-serial::before {content: \"\";position: absolute;border-left: 1px solid gray;box-sizing: border-box;top: 0;bottom: 0;left: 50%;z-index: 0;}#sk-container-id-157 div.sk-serial {display: flex;flex-direction: column;align-items: center;background-color: white;padding-right: 0.2em;padding-left: 0.2em;position: relative;}#sk-container-id-157 div.sk-item {position: relative;z-index: 1;}#sk-container-id-157 div.sk-parallel {display: flex;align-items: stretch;justify-content: center;background-color: white;position: relative;}#sk-container-id-157 div.sk-item::before, #sk-container-id-157 div.sk-parallel-item::before {content: \"\";position: absolute;border-left: 1px solid gray;box-sizing: border-box;top: 0;bottom: 0;left: 50%;z-index: -1;}#sk-container-id-157 div.sk-parallel-item {display: flex;flex-direction: column;z-index: 1;position: relative;background-color: white;}#sk-container-id-157 div.sk-parallel-item:first-child::after {align-self: flex-end;width: 50%;}#sk-container-id-157 div.sk-parallel-item:last-child::after {align-self: flex-start;width: 50%;}#sk-container-id-157 div.sk-parallel-item:only-child::after {width: 0;}#sk-container-id-157 div.sk-dashed-wrapped {border: 1px dashed gray;margin: 0 0.4em 0.5em 0.4em;box-sizing: border-box;padding-bottom: 0.4em;background-color: white;}#sk-container-id-157 div.sk-label label {font-family: monospace;font-weight: bold;display: inline-block;line-height: 1.2em;}#sk-container-id-157 div.sk-label-container {text-align: center;}#sk-container-id-157 div.sk-container {/* jupyter's `normalize.less` sets `[hidden] { display: none; }` but bootstrap.min.css set `[hidden] { display: none !important; }` so we also need the `!important` here to be able to override the default hidden behavior on the sphinx rendered scikit-learn.org. See: https://github.com/scikit-learn/scikit-learn/issues/21755 */display: inline-block !important;position: relative;}#sk-container-id-157 div.sk-text-repr-fallback {display: none;}</style><div id=\"sk-container-id-157\" class=\"sk-top-container\"><div class=\"sk-text-repr-fallback\"><pre>GaussianNB()</pre><b>In a Jupyter environment, please rerun this cell to show the HTML representation or trust the notebook. <br />On GitHub, the HTML representation is unable to render, please try loading this page with nbviewer.org.</b></div><div class=\"sk-container\" hidden><div class=\"sk-item\"><div class=\"sk-estimator sk-toggleable\"><input class=\"sk-toggleable__control sk-hidden--visually\" id=\"sk-estimator-id-157\" type=\"checkbox\" checked><label for=\"sk-estimator-id-157\" class=\"sk-toggleable__label sk-toggleable__label-arrow\">GaussianNB</label><div class=\"sk-toggleable__content\"><pre>GaussianNB()</pre></div></div></div></div></div>"
            ]
          },
          "metadata": {},
          "execution_count": 1745
        }
      ],
      "source": [
        "# membangun mode NBC denegan under sampling\n",
        "from sklearn.naive_bayes import GaussianNB\n",
        "undersampled_df = GaussianNB()\n",
        "undersampled_df.fit(X_under, Y_under)"
      ]
    },
    {
      "cell_type": "code",
      "execution_count": null,
      "metadata": {
        "id": "UQ6lxwCjQRCx",
        "colab": {
          "base_uri": "https://localhost:8080/"
        },
        "outputId": "bbaafce8-4af8-40a8-92f4-cae0d881d8d0"
      },
      "outputs": [
        {
          "output_type": "stream",
          "name": "stdout",
          "text": [
            "[0 0 0 0 0 0 0 0 0 1 0 0 0 0 0 1 1 1 0]\n",
            "0.5789473684210527\n"
          ]
        }
      ],
      "source": [
        "# prediksi terhadap model traning yang telah dibuat untuk UNDER\n",
        "from sklearn.metrics import classification_report, accuracy_score, confusion_matrix\n",
        "prediction_under = undersampled_df.predict(X_test_under)\n",
        "accuracies_under = accuracy_score(y_test_under, prediction_under)\n",
        "\n",
        "print(prediction_under)\n",
        "print(accuracies_under)"
      ]
    },
    {
      "cell_type": "code",
      "execution_count": null,
      "metadata": {
        "id": "ox7WYbWJSgoK",
        "colab": {
          "base_uri": "https://localhost:8080/"
        },
        "outputId": "037bab4e-13fd-4eb5-8a26-2e378534666c"
      },
      "outputs": [
        {
          "output_type": "stream",
          "name": "stdout",
          "text": [
            "[[8 1]\n",
            " [7 3]]\n"
          ]
        }
      ],
      "source": [
        "# menampilkan matrix konfusi under sampling\n",
        "print(confusion_matrix(y_test_under, prediction_under))"
      ]
    },
    {
      "cell_type": "code",
      "source": [
        "#procedure untuk memetakan matrik konfusi\n",
        "def plot_confusion_matrix(y_true,y_pred,classes,\n",
        "                          normalize=False,\n",
        "                          title=None,\n",
        "                          cmap=plt.cm.Blues):\n",
        "    if not title:\n",
        "      if normalize:\n",
        "        title = 'Normalized confusion matrix'\n",
        "      else:\n",
        "        title = \"confussion matrix, without normalization\"\n",
        "  \n",
        "    # compute confusion matrix\n",
        "    cm = confusion_matrix(y_true, y_pred)\n",
        "    #only user the labels that appeat in the data\n",
        "    classes = classes[unique_labels(y_true, y_pred)]\n",
        "    if normalize:\n",
        "      cm = cm.astype('float') / cm.sum(axis=1)[:, np.newaxis]\n",
        "      print(\"Normalized confusion matrix\")\n",
        "    else:\n",
        "      print('confussion matrix, without normalization')\n",
        "    \n",
        "    print(cm)\n",
        "\n",
        "    fig, ax = plt.subplots()\n",
        "    im = ax.imshow(cm, interpolation = 'nearest', cmap=cmap)\n",
        "    ax.figure.colorbar(im, ax=ax)\n",
        "    # we want to show all ticks\n",
        "    ax.set(xticks = np.arange(cm.shape[1]),\n",
        "          yticks = np.arange(cm.shape[0]),\n",
        "           # ... and label them with the respective list entries\n",
        "           xticklabels = classes, yticklabels = classes,\n",
        "           title = title,\n",
        "           ylabel = 'True label',\n",
        "           xlabel = 'Predicted label')\n",
        "    \n",
        "    # rotate the tick labels and set their aligment\n",
        "    plt.setp(ax.get_xticklabels(), rotation=45, ha=\"right\",\n",
        "             rotation_mode =\"anchor\")\n",
        "    \n",
        "    # loop over data dimention and create text annotation\n",
        "    fmt = '.2f' if normalize else 'd'\n",
        "    thresh = cm.max()/2.\n",
        "    for i in range(cm.shape[0]):\n",
        "        for j in range(cm.shape[1]):\n",
        "            ax.text(j,i,format(cm[i,j],fmt),\n",
        "                    ha=\"center\", va=\"center\",\n",
        "                    color=\"white\" if cm[i,j]> thresh else \"black\")\n",
        "        fig.tight_layout()\n",
        "    return ax\n"
      ],
      "metadata": {
        "id": "x4xtuoDAOnvt"
      },
      "execution_count": null,
      "outputs": []
    },
    {
      "cell_type": "code",
      "execution_count": null,
      "metadata": {
        "id": "A5rkW8QSi9dP",
        "colab": {
          "base_uri": "https://localhost:8080/",
          "height": 1000
        },
        "outputId": "9627de2b-6c1a-4e0e-aa4e-7f6850412519"
      },
      "outputs": [
        {
          "output_type": "stream",
          "name": "stdout",
          "text": [
            "confussion matrix, without normalization\n",
            "[[8 1]\n",
            " [7 3]]\n",
            "Normalized confusion matrix\n",
            "[[0.89 0.11]\n",
            " [0.7  0.3 ]]\n"
          ]
        },
        {
          "output_type": "display_data",
          "data": {
            "text/plain": [
              "<Figure size 640x480 with 2 Axes>"
            ],
            "image/png": "[encoded data removed]"
          },
          "metadata": {}
        },
        {
          "output_type": "display_data",
          "data": {
            "text/plain": [
              "<Figure size 640x480 with 2 Axes>"
            ],
            "image/png": "[encoded data removed]"
          },
          "metadata": {}
        }
      ],
      "source": [
        "# visualisasi hasil UNDER SAMPLING\n",
        "class_names = Y_under\n",
        "np.set_printoptions(precision=2)\n",
        "\n",
        "# plot non-normalized confusion matrix\n",
        "plot_confusion_matrix(y_test_under, prediction_under, classes=class_names,\n",
        "                      title ='confiusion matrix, without normalization')\n",
        "# plot normalized confusion matrix \n",
        "plot_confusion_matrix(y_test_under, prediction_under, classes=class_names,normalize=True,\n",
        "                      title ='Normalized confiusion matrix')\n",
        "\n",
        "plt.show()"
      ]
    },
    {
      "cell_type": "code",
      "execution_count": null,
      "metadata": {
        "id": "TOoJ_aE-31b_"
      },
      "outputs": [],
      "source": [
        "# Menyimpan model NBC UNDER\n",
        "import pickle\n",
        "pickle.dump(undersampled_df, open('modelNBC_under.sav', 'wb'))"
      ]
    },
    {
      "cell_type": "markdown",
      "metadata": {
        "id": "TAjXfQP3UBlc"
      },
      "source": [
        "# MODEL KNN"
      ]
    },
    {
      "cell_type": "markdown",
      "source": [
        "# KNN OVER"
      ],
      "metadata": {
        "id": "VlsGt8zhGcPu"
      }
    },
    {
      "cell_type": "code",
      "execution_count": null,
      "metadata": {
        "id": "SSxk3EeCUazx"
      },
      "outputs": [],
      "source": [
        "# # menantukan nilai K yang optimal untuk OVER\n",
        "# # kode tersebut akan mencetak tingkat kesalahan terendah dan nilai K yang sesuai untuk mencapai tingkat kesalahan tersebut.\n",
        "# error_rate = [] # untuk menyimpan tingkat kesalahan (error rate) dari model KNN untuk setiap nilai K yang diuji\n",
        "# for i in range(1, 124):\n",
        "#   knn = KNeighborsClassifier(n_neighbors = i)\n",
        "#   knn.fit(X_train_over, y_train_over) # untuk melatih Model KNN  menggunakan data latih yang telah di-oversampling dan label yang sesuai \n",
        "#   pred_i = knn.predict(X_test_over)\n",
        "#   error_rate.append(np.mean(pred_i!= y_test_over))\n",
        "# print('Minimum error:', min(error_rate), \"at K = \", error_rate.index(min(error_rate)))"
      ]
    },
    {
      "cell_type": "code",
      "source": [],
      "metadata": {
        "id": "kJl8_lQeWcfo"
      },
      "execution_count": null,
      "outputs": []
    },
    {
      "cell_type": "code",
      "source": [
        "# membuat model KNN untuk OVER\n",
        "knn_over = KNeighborsClassifier(n_neighbors = 5, metric = 'euclidean', p = 2)\n",
        "knn_over.fit(X_train_over, y_train_over)"
      ],
      "metadata": {
        "id": "1djyXqg_HKA4",
        "colab": {
          "base_uri": "https://localhost:8080/",
          "height": 74
        },
        "outputId": "980a18be-0968-4b99-d623-6819566a320e"
      },
      "execution_count": null,
      "outputs": [
        {
          "output_type": "execute_result",
          "data": {
            "text/plain": [
              "KNeighborsClassifier(metric='euclidean')"
            ],
            "text/html": [
              "<style>#sk-container-id-158 {color: black;background-color: white;}#sk-container-id-158 pre{padding: 0;}#sk-container-id-158 div.sk-toggleable {background-color: white;}#sk-container-id-158 label.sk-toggleable__label {cursor: pointer;display: block;width: 100%;margin-bottom: 0;padding: 0.3em;box-sizing: border-box;text-align: center;}#sk-container-id-158 label.sk-toggleable__label-arrow:before {content: \"▸\";float: left;margin-right: 0.25em;color: #696969;}#sk-container-id-158 label.sk-toggleable__label-arrow:hover:before {color: black;}#sk-container-id-158 div.sk-estimator:hover label.sk-toggleable__label-arrow:before {color: black;}#sk-container-id-158 div.sk-toggleable__content {max-height: 0;max-width: 0;overflow: hidden;text-align: left;background-color: #f0f8ff;}#sk-container-id-158 div.sk-toggleable__content pre {margin: 0.2em;color: black;border-radius: 0.25em;background-color: #f0f8ff;}#sk-container-id-158 input.sk-toggleable__control:checked~div.sk-toggleable__content {max-height: 200px;max-width: 100%;overflow: auto;}#sk-container-id-158 input.sk-toggleable__control:checked~label.sk-toggleable__label-arrow:before {content: \"▾\";}#sk-container-id-158 div.sk-estimator input.sk-toggleable__control:checked~label.sk-toggleable__label {background-color: #d4ebff;}#sk-container-id-158 div.sk-label input.sk-toggleable__control:checked~label.sk-toggleable__label {background-color: #d4ebff;}#sk-container-id-158 input.sk-hidden--visually {border: 0;clip: rect(1px 1px 1px 1px);clip: rect(1px, 1px, 1px, 1px);height: 1px;margin: -1px;overflow: hidden;padding: 0;position: absolute;width: 1px;}#sk-container-id-158 div.sk-estimator {font-family: monospace;background-color: #f0f8ff;border: 1px dotted black;border-radius: 0.25em;box-sizing: border-box;margin-bottom: 0.5em;}#sk-container-id-158 div.sk-estimator:hover {background-color: #d4ebff;}#sk-container-id-158 div.sk-parallel-item::after {content: \"\";width: 100%;border-bottom: 1px solid gray;flex-grow: 1;}#sk-container-id-158 div.sk-label:hover label.sk-toggleable__label {background-color: #d4ebff;}#sk-container-id-158 div.sk-serial::before {content: \"\";position: absolute;border-left: 1px solid gray;box-sizing: border-box;top: 0;bottom: 0;left: 50%;z-index: 0;}#sk-container-id-158 div.sk-serial {display: flex;flex-direction: column;align-items: center;background-color: white;padding-right: 0.2em;padding-left: 0.2em;position: relative;}#sk-container-id-158 div.sk-item {position: relative;z-index: 1;}#sk-container-id-158 div.sk-parallel {display: flex;align-items: stretch;justify-content: center;background-color: white;position: relative;}#sk-container-id-158 div.sk-item::before, #sk-container-id-158 div.sk-parallel-item::before {content: \"\";position: absolute;border-left: 1px solid gray;box-sizing: border-box;top: 0;bottom: 0;left: 50%;z-index: -1;}#sk-container-id-158 div.sk-parallel-item {display: flex;flex-direction: column;z-index: 1;position: relative;background-color: white;}#sk-container-id-158 div.sk-parallel-item:first-child::after {align-self: flex-end;width: 50%;}#sk-container-id-158 div.sk-parallel-item:last-child::after {align-self: flex-start;width: 50%;}#sk-container-id-158 div.sk-parallel-item:only-child::after {width: 0;}#sk-container-id-158 div.sk-dashed-wrapped {border: 1px dashed gray;margin: 0 0.4em 0.5em 0.4em;box-sizing: border-box;padding-bottom: 0.4em;background-color: white;}#sk-container-id-158 div.sk-label label {font-family: monospace;font-weight: bold;display: inline-block;line-height: 1.2em;}#sk-container-id-158 div.sk-label-container {text-align: center;}#sk-container-id-158 div.sk-container {/* jupyter's `normalize.less` sets `[hidden] { display: none; }` but bootstrap.min.css set `[hidden] { display: none !important; }` so we also need the `!important` here to be able to override the default hidden behavior on the sphinx rendered scikit-learn.org. See: https://github.com/scikit-learn/scikit-learn/issues/21755 */display: inline-block !important;position: relative;}#sk-container-id-158 div.sk-text-repr-fallback {display: none;}</style><div id=\"sk-container-id-158\" class=\"sk-top-container\"><div class=\"sk-text-repr-fallback\"><pre>KNeighborsClassifier(metric=&#x27;euclidean&#x27;)</pre><b>In a Jupyter environment, please rerun this cell to show the HTML representation or trust the notebook. <br />On GitHub, the HTML representation is unable to render, please try loading this page with nbviewer.org.</b></div><div class=\"sk-container\" hidden><div class=\"sk-item\"><div class=\"sk-estimator sk-toggleable\"><input class=\"sk-toggleable__control sk-hidden--visually\" id=\"sk-estimator-id-158\" type=\"checkbox\" checked><label for=\"sk-estimator-id-158\" class=\"sk-toggleable__label sk-toggleable__label-arrow\">KNeighborsClassifier</label><div class=\"sk-toggleable__content\"><pre>KNeighborsClassifier(metric=&#x27;euclidean&#x27;)</pre></div></div></div></div></div>"
            ]
          },
          "metadata": {},
          "execution_count": 1752
        }
      ]
    },
    {
      "cell_type": "code",
      "execution_count": null,
      "metadata": {
        "id": "UL7zg0YbUdUa",
        "colab": {
          "base_uri": "https://localhost:8080/"
        },
        "outputId": "3beefb96-f3c0-43f0-e9ab-b1ba2f9c77a6"
      },
      "outputs": [
        {
          "output_type": "stream",
          "name": "stdout",
          "text": [
            "[1 0 0 1 1 1 0 1 0 1 0 1 0 0 1 1 1 0 0 0 1 1 0 0 1 0 1 0 0 1 0 0 1 0 1 1 0\n",
            " 1 0 0 0 1]\n"
          ]
        }
      ],
      "source": [
        "# prediksi OVER\n",
        "y_pred_over = knn_over.predict(X_test_over)\n",
        "print(y_pred_over)"
      ]
    },
    {
      "cell_type": "code",
      "execution_count": null,
      "metadata": {
        "id": "kmEJokqhUehD",
        "colab": {
          "base_uri": "https://localhost:8080/"
        },
        "outputId": "34eb2dd1-730a-473b-b145-b7cd0879abdc"
      },
      "outputs": [
        {
          "output_type": "stream",
          "name": "stdout",
          "text": [
            "[[12  5]\n",
            " [10 15]]\n"
          ]
        }
      ],
      "source": [
        "# confussion matrix OVER\n",
        "cm_over = confusion_matrix(y_test_over, y_pred_over)\n",
        "print(cm_over)"
      ]
    },
    {
      "cell_type": "code",
      "execution_count": null,
      "metadata": {
        "id": "tDtDnv6x5Zlr",
        "colab": {
          "base_uri": "https://localhost:8080/"
        },
        "outputId": "1bcaf0a8-7911-4d62-aae9-ae60231e90cc"
      },
      "outputs": [
        {
          "output_type": "stream",
          "name": "stdout",
          "text": [
            "              precision    recall  f1-score   support\n",
            "\n",
            "           0       0.55      0.71      0.62        17\n",
            "           1       0.75      0.60      0.67        25\n",
            "\n",
            "    accuracy                           0.64        42\n",
            "   macro avg       0.65      0.65      0.64        42\n",
            "weighted avg       0.67      0.64      0.65        42\n",
            "\n"
          ]
        }
      ],
      "source": [
        "# akurasi OVER\n",
        "akurasi_over = classification_report(y_test_over, y_pred_over)\n",
        "print(akurasi_over)"
      ]
    },
    {
      "cell_type": "code",
      "execution_count": null,
      "metadata": {
        "id": "wL8NGovn5s-B"
      },
      "outputs": [],
      "source": [
        "# Menyimpan model KNN OVER\n",
        "import pickle\n",
        "pickle.dump(knn_over, open('modelKNN_over.sav', 'wb'))"
      ]
    },
    {
      "cell_type": "markdown",
      "metadata": {
        "id": "kVrgbzLatOk8"
      },
      "source": [
        "# KNN UNDER"
      ]
    },
    {
      "cell_type": "code",
      "source": [
        "# # menantukan nilai K yang optimal untuk UNDER\n",
        "# error_rate = []\n",
        "# for i in range(1, 55):\n",
        "#   knn = KNeighborsClassifier(n_neighbors = i)\n",
        "#   knn.fit(X_train_under, y_train_under)\n",
        "#   pred_i = knn.predict(X_test_under)\n",
        "#   error_rate.append(np.mean(pred_i!= y_test_under))\n",
        "# print('Minimum error:', min(error_rate), \"at K = \", error_rate.index(min(error_rate)))\n"
      ],
      "metadata": {
        "id": "P40B6-VwGukU"
      },
      "execution_count": null,
      "outputs": []
    },
    {
      "cell_type": "code",
      "source": [
        "# membuat model KNN untuk OVER\n",
        "knn_under = KNeighborsClassifier(n_neighbors = 5, metric = 'euclidean', p = 2)\n",
        "knn_under.fit(X_train_under, y_train_under)"
      ],
      "metadata": {
        "id": "ox2amUauMydo",
        "colab": {
          "base_uri": "https://localhost:8080/",
          "height": 74
        },
        "outputId": "6c972888-ff5d-48cc-ac14-3dc22619c197"
      },
      "execution_count": null,
      "outputs": [
        {
          "output_type": "execute_result",
          "data": {
            "text/plain": [
              "KNeighborsClassifier(metric='euclidean')"
            ],
            "text/html": [
              "<style>#sk-container-id-159 {color: black;background-color: white;}#sk-container-id-159 pre{padding: 0;}#sk-container-id-159 div.sk-toggleable {background-color: white;}#sk-container-id-159 label.sk-toggleable__label {cursor: pointer;display: block;width: 100%;margin-bottom: 0;padding: 0.3em;box-sizing: border-box;text-align: center;}#sk-container-id-159 label.sk-toggleable__label-arrow:before {content: \"▸\";float: left;margin-right: 0.25em;color: #696969;}#sk-container-id-159 label.sk-toggleable__label-arrow:hover:before {color: black;}#sk-container-id-159 div.sk-estimator:hover label.sk-toggleable__label-arrow:before {color: black;}#sk-container-id-159 div.sk-toggleable__content {max-height: 0;max-width: 0;overflow: hidden;text-align: left;background-color: #f0f8ff;}#sk-container-id-159 div.sk-toggleable__content pre {margin: 0.2em;color: black;border-radius: 0.25em;background-color: #f0f8ff;}#sk-container-id-159 input.sk-toggleable__control:checked~div.sk-toggleable__content {max-height: 200px;max-width: 100%;overflow: auto;}#sk-container-id-159 input.sk-toggleable__control:checked~label.sk-toggleable__label-arrow:before {content: \"▾\";}#sk-container-id-159 div.sk-estimator input.sk-toggleable__control:checked~label.sk-toggleable__label {background-color: #d4ebff;}#sk-container-id-159 div.sk-label input.sk-toggleable__control:checked~label.sk-toggleable__label {background-color: #d4ebff;}#sk-container-id-159 input.sk-hidden--visually {border: 0;clip: rect(1px 1px 1px 1px);clip: rect(1px, 1px, 1px, 1px);height: 1px;margin: -1px;overflow: hidden;padding: 0;position: absolute;width: 1px;}#sk-container-id-159 div.sk-estimator {font-family: monospace;background-color: #f0f8ff;border: 1px dotted black;border-radius: 0.25em;box-sizing: border-box;margin-bottom: 0.5em;}#sk-container-id-159 div.sk-estimator:hover {background-color: #d4ebff;}#sk-container-id-159 div.sk-parallel-item::after {content: \"\";width: 100%;border-bottom: 1px solid gray;flex-grow: 1;}#sk-container-id-159 div.sk-label:hover label.sk-toggleable__label {background-color: #d4ebff;}#sk-container-id-159 div.sk-serial::before {content: \"\";position: absolute;border-left: 1px solid gray;box-sizing: border-box;top: 0;bottom: 0;left: 50%;z-index: 0;}#sk-container-id-159 div.sk-serial {display: flex;flex-direction: column;align-items: center;background-color: white;padding-right: 0.2em;padding-left: 0.2em;position: relative;}#sk-container-id-159 div.sk-item {position: relative;z-index: 1;}#sk-container-id-159 div.sk-parallel {display: flex;align-items: stretch;justify-content: center;background-color: white;position: relative;}#sk-container-id-159 div.sk-item::before, #sk-container-id-159 div.sk-parallel-item::before {content: \"\";position: absolute;border-left: 1px solid gray;box-sizing: border-box;top: 0;bottom: 0;left: 50%;z-index: -1;}#sk-container-id-159 div.sk-parallel-item {display: flex;flex-direction: column;z-index: 1;position: relative;background-color: white;}#sk-container-id-159 div.sk-parallel-item:first-child::after {align-self: flex-end;width: 50%;}#sk-container-id-159 div.sk-parallel-item:last-child::after {align-self: flex-start;width: 50%;}#sk-container-id-159 div.sk-parallel-item:only-child::after {width: 0;}#sk-container-id-159 div.sk-dashed-wrapped {border: 1px dashed gray;margin: 0 0.4em 0.5em 0.4em;box-sizing: border-box;padding-bottom: 0.4em;background-color: white;}#sk-container-id-159 div.sk-label label {font-family: monospace;font-weight: bold;display: inline-block;line-height: 1.2em;}#sk-container-id-159 div.sk-label-container {text-align: center;}#sk-container-id-159 div.sk-container {/* jupyter's `normalize.less` sets `[hidden] { display: none; }` but bootstrap.min.css set `[hidden] { display: none !important; }` so we also need the `!important` here to be able to override the default hidden behavior on the sphinx rendered scikit-learn.org. See: https://github.com/scikit-learn/scikit-learn/issues/21755 */display: inline-block !important;position: relative;}#sk-container-id-159 div.sk-text-repr-fallback {display: none;}</style><div id=\"sk-container-id-159\" class=\"sk-top-container\"><div class=\"sk-text-repr-fallback\"><pre>KNeighborsClassifier(metric=&#x27;euclidean&#x27;)</pre><b>In a Jupyter environment, please rerun this cell to show the HTML representation or trust the notebook. <br />On GitHub, the HTML representation is unable to render, please try loading this page with nbviewer.org.</b></div><div class=\"sk-container\" hidden><div class=\"sk-item\"><div class=\"sk-estimator sk-toggleable\"><input class=\"sk-toggleable__control sk-hidden--visually\" id=\"sk-estimator-id-159\" type=\"checkbox\" checked><label for=\"sk-estimator-id-159\" class=\"sk-toggleable__label sk-toggleable__label-arrow\">KNeighborsClassifier</label><div class=\"sk-toggleable__content\"><pre>KNeighborsClassifier(metric=&#x27;euclidean&#x27;)</pre></div></div></div></div></div>"
            ]
          },
          "metadata": {},
          "execution_count": 1758
        }
      ]
    },
    {
      "cell_type": "code",
      "source": [
        "# prediksi UNDER\n",
        "y_pred_under = knn_under.predict(X_test_under)\n",
        "print(y_pred_under)"
      ],
      "metadata": {
        "id": "eg47Ncr4MZHq",
        "colab": {
          "base_uri": "https://localhost:8080/"
        },
        "outputId": "20229422-5834-4e89-d052-c158f214c705"
      },
      "execution_count": null,
      "outputs": [
        {
          "output_type": "stream",
          "name": "stdout",
          "text": [
            "[0 1 1 0 0 0 1 1 0 0 1 0 1 1 0 1 0 1 0]\n"
          ]
        }
      ]
    },
    {
      "cell_type": "code",
      "source": [
        "# confussion matrix UNDER\n",
        "cm_under = confusion_matrix(y_test_under, y_pred_under)\n",
        "print(cm_under)"
      ],
      "metadata": {
        "id": "qO5xZoa-PxYJ",
        "colab": {
          "base_uri": "https://localhost:8080/"
        },
        "outputId": "5f9d0102-d414-4c11-8b79-fcad50c5cab1"
      },
      "execution_count": null,
      "outputs": [
        {
          "output_type": "stream",
          "name": "stdout",
          "text": [
            "[[6 3]\n",
            " [4 6]]\n"
          ]
        }
      ]
    },
    {
      "cell_type": "code",
      "source": [
        "# akurasi UNDER\n",
        "akurasi_under = classification_report(y_test_under, y_pred_under)\n",
        "print(akurasi_under)"
      ],
      "metadata": {
        "id": "gbOKRFCVSwfk",
        "colab": {
          "base_uri": "https://localhost:8080/"
        },
        "outputId": "e4024d88-3fbe-430c-e3be-5f1c941125fa"
      },
      "execution_count": null,
      "outputs": [
        {
          "output_type": "stream",
          "name": "stdout",
          "text": [
            "              precision    recall  f1-score   support\n",
            "\n",
            "           0       0.60      0.67      0.63         9\n",
            "           1       0.67      0.60      0.63        10\n",
            "\n",
            "    accuracy                           0.63        19\n",
            "   macro avg       0.63      0.63      0.63        19\n",
            "weighted avg       0.64      0.63      0.63        19\n",
            "\n"
          ]
        }
      ]
    },
    {
      "cell_type": "code",
      "source": [
        "# Menyimpan model KNN UNDER\n",
        "import pickle\n",
        "pickle.dump(knn_under, open('modelKNN_under.sav', 'wb'))"
      ],
      "metadata": {
        "id": "rdY1oCrTS3Qh"
      },
      "execution_count": null,
      "outputs": []
    },
    {
      "cell_type": "markdown",
      "metadata": {
        "id": "1O1y-uMBXqbh"
      },
      "source": [
        "# MODEL SVM"
      ]
    },
    {
      "cell_type": "markdown",
      "source": [
        "# SVM OVER"
      ],
      "metadata": {
        "id": "w85F1QX5BqlG"
      }
    },
    {
      "cell_type": "code",
      "source": [
        "# membuat model SVM OVER\n",
        "classifier_over = svm.SVC(kernel='linear')\n",
        "classifier_over.fit(X_train_over,y_train_over)"
      ],
      "metadata": {
        "id": "fn3eD9brBvYw",
        "colab": {
          "base_uri": "https://localhost:8080/",
          "height": 74
        },
        "outputId": "aa18b6d1-d2b0-427a-fa9a-5e2a24c4c0f3"
      },
      "execution_count": null,
      "outputs": [
        {
          "output_type": "execute_result",
          "data": {
            "text/plain": [
              "SVC(kernel='linear')"
            ],
            "text/html": [
              "<style>#sk-container-id-160 {color: black;background-color: white;}#sk-container-id-160 pre{padding: 0;}#sk-container-id-160 div.sk-toggleable {background-color: white;}#sk-container-id-160 label.sk-toggleable__label {cursor: pointer;display: block;width: 100%;margin-bottom: 0;padding: 0.3em;box-sizing: border-box;text-align: center;}#sk-container-id-160 label.sk-toggleable__label-arrow:before {content: \"▸\";float: left;margin-right: 0.25em;color: #696969;}#sk-container-id-160 label.sk-toggleable__label-arrow:hover:before {color: black;}#sk-container-id-160 div.sk-estimator:hover label.sk-toggleable__label-arrow:before {color: black;}#sk-container-id-160 div.sk-toggleable__content {max-height: 0;max-width: 0;overflow: hidden;text-align: left;background-color: #f0f8ff;}#sk-container-id-160 div.sk-toggleable__content pre {margin: 0.2em;color: black;border-radius: 0.25em;background-color: #f0f8ff;}#sk-container-id-160 input.sk-toggleable__control:checked~div.sk-toggleable__content {max-height: 200px;max-width: 100%;overflow: auto;}#sk-container-id-160 input.sk-toggleable__control:checked~label.sk-toggleable__label-arrow:before {content: \"▾\";}#sk-container-id-160 div.sk-estimator input.sk-toggleable__control:checked~label.sk-toggleable__label {background-color: #d4ebff;}#sk-container-id-160 div.sk-label input.sk-toggleable__control:checked~label.sk-toggleable__label {background-color: #d4ebff;}#sk-container-id-160 input.sk-hidden--visually {border: 0;clip: rect(1px 1px 1px 1px);clip: rect(1px, 1px, 1px, 1px);height: 1px;margin: -1px;overflow: hidden;padding: 0;position: absolute;width: 1px;}#sk-container-id-160 div.sk-estimator {font-family: monospace;background-color: #f0f8ff;border: 1px dotted black;border-radius: 0.25em;box-sizing: border-box;margin-bottom: 0.5em;}#sk-container-id-160 div.sk-estimator:hover {background-color: #d4ebff;}#sk-container-id-160 div.sk-parallel-item::after {content: \"\";width: 100%;border-bottom: 1px solid gray;flex-grow: 1;}#sk-container-id-160 div.sk-label:hover label.sk-toggleable__label {background-color: #d4ebff;}#sk-container-id-160 div.sk-serial::before {content: \"\";position: absolute;border-left: 1px solid gray;box-sizing: border-box;top: 0;bottom: 0;left: 50%;z-index: 0;}#sk-container-id-160 div.sk-serial {display: flex;flex-direction: column;align-items: center;background-color: white;padding-right: 0.2em;padding-left: 0.2em;position: relative;}#sk-container-id-160 div.sk-item {position: relative;z-index: 1;}#sk-container-id-160 div.sk-parallel {display: flex;align-items: stretch;justify-content: center;background-color: white;position: relative;}#sk-container-id-160 div.sk-item::before, #sk-container-id-160 div.sk-parallel-item::before {content: \"\";position: absolute;border-left: 1px solid gray;box-sizing: border-box;top: 0;bottom: 0;left: 50%;z-index: -1;}#sk-container-id-160 div.sk-parallel-item {display: flex;flex-direction: column;z-index: 1;position: relative;background-color: white;}#sk-container-id-160 div.sk-parallel-item:first-child::after {align-self: flex-end;width: 50%;}#sk-container-id-160 div.sk-parallel-item:last-child::after {align-self: flex-start;width: 50%;}#sk-container-id-160 div.sk-parallel-item:only-child::after {width: 0;}#sk-container-id-160 div.sk-dashed-wrapped {border: 1px dashed gray;margin: 0 0.4em 0.5em 0.4em;box-sizing: border-box;padding-bottom: 0.4em;background-color: white;}#sk-container-id-160 div.sk-label label {font-family: monospace;font-weight: bold;display: inline-block;line-height: 1.2em;}#sk-container-id-160 div.sk-label-container {text-align: center;}#sk-container-id-160 div.sk-container {/* jupyter's `normalize.less` sets `[hidden] { display: none; }` but bootstrap.min.css set `[hidden] { display: none !important; }` so we also need the `!important` here to be able to override the default hidden behavior on the sphinx rendered scikit-learn.org. See: https://github.com/scikit-learn/scikit-learn/issues/21755 */display: inline-block !important;position: relative;}#sk-container-id-160 div.sk-text-repr-fallback {display: none;}</style><div id=\"sk-container-id-160\" class=\"sk-top-container\"><div class=\"sk-text-repr-fallback\"><pre>SVC(kernel=&#x27;linear&#x27;)</pre><b>In a Jupyter environment, please rerun this cell to show the HTML representation or trust the notebook. <br />On GitHub, the HTML representation is unable to render, please try loading this page with nbviewer.org.</b></div><div class=\"sk-container\" hidden><div class=\"sk-item\"><div class=\"sk-estimator sk-toggleable\"><input class=\"sk-toggleable__control sk-hidden--visually\" id=\"sk-estimator-id-160\" type=\"checkbox\" checked><label for=\"sk-estimator-id-160\" class=\"sk-toggleable__label sk-toggleable__label-arrow\">SVC</label><div class=\"sk-toggleable__content\"><pre>SVC(kernel=&#x27;linear&#x27;)</pre></div></div></div></div></div>"
            ]
          },
          "metadata": {},
          "execution_count": 1763
        }
      ]
    },
    {
      "cell_type": "code",
      "source": [
        "# akurasi traning\n",
        "X_train_prediction = classifier_over.predict(X_train_over)\n",
        "training_data_accuracy = accuracy_score(X_train_prediction, y_train_over)\n",
        "print('Akurasi data training adalah - ', training_data_accuracy)"
      ],
      "metadata": {
        "id": "8kGJ0Hw4C24e",
        "colab": {
          "base_uri": "https://localhost:8080/"
        },
        "outputId": "946a2e26-f744-42de-970e-63ce61ebb8a2"
      },
      "execution_count": null,
      "outputs": [
        {
          "output_type": "stream",
          "name": "stdout",
          "text": [
            "Akurasi data training adalah -  0.717741935483871\n"
          ]
        }
      ]
    },
    {
      "cell_type": "code",
      "source": [
        "# akurasi testing\n",
        "X_test_prediction = classifier_over.predict(X_test_over)\n",
        "test_data_accuracy = accuracy_score(X_test_prediction, y_test_over)\n",
        "print('Akurasi data testing adalah - ', test_data_accuracy)"
      ],
      "metadata": {
        "id": "zrqNTw61CLRx",
        "colab": {
          "base_uri": "https://localhost:8080/"
        },
        "outputId": "c6b64055-9cb8-464b-d5ec-347bab8cb66f"
      },
      "execution_count": null,
      "outputs": [
        {
          "output_type": "stream",
          "name": "stdout",
          "text": [
            "Akurasi data testing adalah -  0.8095238095238095\n"
          ]
        }
      ]
    },
    {
      "cell_type": "code",
      "source": [
        "# prediksi terhadap model testing yang telah dibuat untuk OVER\n",
        "from sklearn.metrics import classification_report, accuracy_score, confusion_matrix\n",
        "prediction_over = classifier_over.predict(X_test_over)\n",
        "accuracies_over = accuracy_score(y_test_over, prediction_over)\n",
        "\n",
        "print(prediction_over)\n",
        "print(\"akurasinya adalah = \",accuracies_over)"
      ],
      "metadata": {
        "id": "skOjKpxuJu-x",
        "colab": {
          "base_uri": "https://localhost:8080/"
        },
        "outputId": "7f654bf8-fa47-4417-ba2e-6d09199f971e"
      },
      "execution_count": null,
      "outputs": [
        {
          "output_type": "stream",
          "name": "stdout",
          "text": [
            "[0 1 0 1 1 1 1 0 1 1 0 0 0 0 0 0 1 0 1 0 1 0 0 0 1 0 0 1 1 1 0 0 1 1 1 1 0\n",
            " 1 0 0 0 0]\n",
            "akurasinya adalah =  0.8095238095238095\n"
          ]
        }
      ]
    },
    {
      "cell_type": "code",
      "source": [
        "# confussion matrix OVER\n",
        "svm_over = confusion_matrix(y_test_over, prediction_over)\n",
        "print(svm_over)"
      ],
      "metadata": {
        "id": "kOgRcGgjN2ki",
        "colab": {
          "base_uri": "https://localhost:8080/"
        },
        "outputId": "73aa923f-39ad-4930-b948-ec9678cc025d"
      },
      "execution_count": null,
      "outputs": [
        {
          "output_type": "stream",
          "name": "stdout",
          "text": [
            "[[16  1]\n",
            " [ 7 18]]\n"
          ]
        }
      ]
    },
    {
      "cell_type": "code",
      "source": [
        "# akurasi OVER\n",
        "akurasi_over = classification_report(y_test_over, prediction_over)\n",
        "print(akurasi_over)"
      ],
      "metadata": {
        "colab": {
          "base_uri": "https://localhost:8080/"
        },
        "id": "jTUDFckOTGqe",
        "outputId": "f079348c-1f79-4cde-c6b9-51da84aff545"
      },
      "execution_count": null,
      "outputs": [
        {
          "output_type": "stream",
          "name": "stdout",
          "text": [
            "              precision    recall  f1-score   support\n",
            "\n",
            "           0       0.70      0.94      0.80        17\n",
            "           1       0.95      0.72      0.82        25\n",
            "\n",
            "    accuracy                           0.81        42\n",
            "   macro avg       0.82      0.83      0.81        42\n",
            "weighted avg       0.85      0.81      0.81        42\n",
            "\n"
          ]
        }
      ]
    },
    {
      "cell_type": "code",
      "source": [
        "# # sampel data\n",
        "\n",
        "# input_data = (54,148,72,35,148,33)\n",
        "# input_data_as_numpy_array = np.array(input_data)\n",
        "# input_data_reshape = input_data_as_numpy_array.reshape(1,-1)\n",
        "\n",
        "# std_data = scaler.transform(input_data_reshape)\n",
        "# print(std_data)\n",
        "\n",
        "\n",
        "# prediction = classifier_over.predict(std_data)\n",
        "# print(prediction)\n",
        "\n",
        "# if (prediction[0]==0):\n",
        "#     print('Pasien tidak terkena diabetes')\n",
        "# else:\n",
        "#     print('Pasien terkena diabetes')"
      ],
      "metadata": {
        "id": "fihI2GKwCVgy"
      },
      "execution_count": null,
      "outputs": []
    },
    {
      "cell_type": "code",
      "source": [
        "# menyimpan model SVM OVER\n",
        "filename = 'modelSVM_over1.sav'\n",
        "pickle.dump(classifier_over,open(filename,'wb'))"
      ],
      "metadata": {
        "id": "X4SLAFoFCktg"
      },
      "execution_count": null,
      "outputs": []
    },
    {
      "cell_type": "markdown",
      "source": [
        "# SVM UNDER"
      ],
      "metadata": {
        "id": "eD5HT9-ABxGY"
      }
    },
    {
      "cell_type": "code",
      "execution_count": null,
      "metadata": {
        "id": "IZbPqfJVYRzK",
        "colab": {
          "base_uri": "https://localhost:8080/",
          "height": 74
        },
        "outputId": "25403fdb-aa83-400e-aee5-98226afc1266"
      },
      "outputs": [
        {
          "output_type": "execute_result",
          "data": {
            "text/plain": [
              "SVC(kernel='linear')"
            ],
            "text/html": [
              "<style>#sk-container-id-161 {color: black;background-color: white;}#sk-container-id-161 pre{padding: 0;}#sk-container-id-161 div.sk-toggleable {background-color: white;}#sk-container-id-161 label.sk-toggleable__label {cursor: pointer;display: block;width: 100%;margin-bottom: 0;padding: 0.3em;box-sizing: border-box;text-align: center;}#sk-container-id-161 label.sk-toggleable__label-arrow:before {content: \"▸\";float: left;margin-right: 0.25em;color: #696969;}#sk-container-id-161 label.sk-toggleable__label-arrow:hover:before {color: black;}#sk-container-id-161 div.sk-estimator:hover label.sk-toggleable__label-arrow:before {color: black;}#sk-container-id-161 div.sk-toggleable__content {max-height: 0;max-width: 0;overflow: hidden;text-align: left;background-color: #f0f8ff;}#sk-container-id-161 div.sk-toggleable__content pre {margin: 0.2em;color: black;border-radius: 0.25em;background-color: #f0f8ff;}#sk-container-id-161 input.sk-toggleable__control:checked~div.sk-toggleable__content {max-height: 200px;max-width: 100%;overflow: auto;}#sk-container-id-161 input.sk-toggleable__control:checked~label.sk-toggleable__label-arrow:before {content: \"▾\";}#sk-container-id-161 div.sk-estimator input.sk-toggleable__control:checked~label.sk-toggleable__label {background-color: #d4ebff;}#sk-container-id-161 div.sk-label input.sk-toggleable__control:checked~label.sk-toggleable__label {background-color: #d4ebff;}#sk-container-id-161 input.sk-hidden--visually {border: 0;clip: rect(1px 1px 1px 1px);clip: rect(1px, 1px, 1px, 1px);height: 1px;margin: -1px;overflow: hidden;padding: 0;position: absolute;width: 1px;}#sk-container-id-161 div.sk-estimator {font-family: monospace;background-color: #f0f8ff;border: 1px dotted black;border-radius: 0.25em;box-sizing: border-box;margin-bottom: 0.5em;}#sk-container-id-161 div.sk-estimator:hover {background-color: #d4ebff;}#sk-container-id-161 div.sk-parallel-item::after {content: \"\";width: 100%;border-bottom: 1px solid gray;flex-grow: 1;}#sk-container-id-161 div.sk-label:hover label.sk-toggleable__label {background-color: #d4ebff;}#sk-container-id-161 div.sk-serial::before {content: \"\";position: absolute;border-left: 1px solid gray;box-sizing: border-box;top: 0;bottom: 0;left: 50%;z-index: 0;}#sk-container-id-161 div.sk-serial {display: flex;flex-direction: column;align-items: center;background-color: white;padding-right: 0.2em;padding-left: 0.2em;position: relative;}#sk-container-id-161 div.sk-item {position: relative;z-index: 1;}#sk-container-id-161 div.sk-parallel {display: flex;align-items: stretch;justify-content: center;background-color: white;position: relative;}#sk-container-id-161 div.sk-item::before, #sk-container-id-161 div.sk-parallel-item::before {content: \"\";position: absolute;border-left: 1px solid gray;box-sizing: border-box;top: 0;bottom: 0;left: 50%;z-index: -1;}#sk-container-id-161 div.sk-parallel-item {display: flex;flex-direction: column;z-index: 1;position: relative;background-color: white;}#sk-container-id-161 div.sk-parallel-item:first-child::after {align-self: flex-end;width: 50%;}#sk-container-id-161 div.sk-parallel-item:last-child::after {align-self: flex-start;width: 50%;}#sk-container-id-161 div.sk-parallel-item:only-child::after {width: 0;}#sk-container-id-161 div.sk-dashed-wrapped {border: 1px dashed gray;margin: 0 0.4em 0.5em 0.4em;box-sizing: border-box;padding-bottom: 0.4em;background-color: white;}#sk-container-id-161 div.sk-label label {font-family: monospace;font-weight: bold;display: inline-block;line-height: 1.2em;}#sk-container-id-161 div.sk-label-container {text-align: center;}#sk-container-id-161 div.sk-container {/* jupyter's `normalize.less` sets `[hidden] { display: none; }` but bootstrap.min.css set `[hidden] { display: none !important; }` so we also need the `!important` here to be able to override the default hidden behavior on the sphinx rendered scikit-learn.org. See: https://github.com/scikit-learn/scikit-learn/issues/21755 */display: inline-block !important;position: relative;}#sk-container-id-161 div.sk-text-repr-fallback {display: none;}</style><div id=\"sk-container-id-161\" class=\"sk-top-container\"><div class=\"sk-text-repr-fallback\"><pre>SVC(kernel=&#x27;linear&#x27;)</pre><b>In a Jupyter environment, please rerun this cell to show the HTML representation or trust the notebook. <br />On GitHub, the HTML representation is unable to render, please try loading this page with nbviewer.org.</b></div><div class=\"sk-container\" hidden><div class=\"sk-item\"><div class=\"sk-estimator sk-toggleable\"><input class=\"sk-toggleable__control sk-hidden--visually\" id=\"sk-estimator-id-161\" type=\"checkbox\" checked><label for=\"sk-estimator-id-161\" class=\"sk-toggleable__label sk-toggleable__label-arrow\">SVC</label><div class=\"sk-toggleable__content\"><pre>SVC(kernel=&#x27;linear&#x27;)</pre></div></div></div></div></div>"
            ]
          },
          "metadata": {},
          "execution_count": 1771
        }
      ],
      "source": [
        "# membuat model SVM UNDER\n",
        "classifier_under = svm.SVC(kernel='linear')\n",
        "classifier_under.fit(X_train_under,y_train_under)"
      ]
    },
    {
      "cell_type": "code",
      "source": [
        "# akurasi traning\n",
        "X_train_prediction = classifier_under.predict(X_train_under)\n",
        "training_data_accuracy = accuracy_score(X_train_prediction, y_train_under)\n",
        "print('Akurasi data training adalah - ', training_data_accuracy)"
      ],
      "metadata": {
        "id": "DGJOMbznDDBZ",
        "colab": {
          "base_uri": "https://localhost:8080/"
        },
        "outputId": "3dffad44-571b-4936-9aed-531f8ab78ace"
      },
      "execution_count": null,
      "outputs": [
        {
          "output_type": "stream",
          "name": "stdout",
          "text": [
            "Akurasi data training adalah -  0.7090909090909091\n"
          ]
        }
      ]
    },
    {
      "cell_type": "code",
      "source": [
        "# akurasi testing\n",
        "X_test_prediction = classifier_under.predict(X_test_under)\n",
        "test_data_accuracy = accuracy_score(X_test_prediction, y_test_under)\n",
        "print('Akurasi data testing adalah = ', test_data_accuracy)"
      ],
      "metadata": {
        "id": "uLqifauiDKRD",
        "colab": {
          "base_uri": "https://localhost:8080/"
        },
        "outputId": "1e55480d-324a-4271-9661-dbd50b1f70c8"
      },
      "execution_count": null,
      "outputs": [
        {
          "output_type": "stream",
          "name": "stdout",
          "text": [
            "Akurasi data testing adalah =  0.6842105263157895\n"
          ]
        }
      ]
    },
    {
      "cell_type": "code",
      "source": [
        "# prediksi terhadap model traning yang telah dibuat untuk UNDER\n",
        "from sklearn.metrics import classification_report, accuracy_score, confusion_matrix\n",
        "prediction_over = classifier_under.predict(X_test_under)\n",
        "accuracies_under = accuracy_score(y_test_under, prediction_under)\n",
        "\n",
        "print(prediction_under)\n",
        "print(\"akurasinya adalah = \",accuracies_under)"
      ],
      "metadata": {
        "id": "GLMlbsd3KARr",
        "colab": {
          "base_uri": "https://localhost:8080/"
        },
        "outputId": "f6ed4879-ed82-4de8-b468-766730910388"
      },
      "execution_count": null,
      "outputs": [
        {
          "output_type": "stream",
          "name": "stdout",
          "text": [
            "[0 0 0 0 0 0 0 0 0 1 0 0 0 0 0 1 1 1 0]\n",
            "akurasinya adalah =  0.5789473684210527\n"
          ]
        }
      ]
    },
    {
      "cell_type": "code",
      "source": [
        "# confussion matrix UNDER\n",
        "svm_under = confusion_matrix(y_test_under, prediction_over )\n",
        "print(svm_under)"
      ],
      "metadata": {
        "id": "RBD-dTpkN_CR",
        "colab": {
          "base_uri": "https://localhost:8080/"
        },
        "outputId": "6e82a433-0a00-4097-a48d-599b086c7097"
      },
      "execution_count": null,
      "outputs": [
        {
          "output_type": "stream",
          "name": "stdout",
          "text": [
            "[[7 2]\n",
            " [4 6]]\n"
          ]
        }
      ]
    },
    {
      "cell_type": "code",
      "source": [
        "# # sampel data\n",
        "\n",
        "# input_data = (54,148,72,35,148,33)\n",
        "# input_data_as_numpy_array = np.array(input_data)\n",
        "# input_data_reshape = input_data_as_numpy_array.reshape(1,-1)\n",
        "\n",
        "# std_data = scaler.transform(input_data_reshape)\n",
        "# print(std_data)\n",
        "\n",
        "\n",
        "# prediction = classifier_under.predict(std_data)\n",
        "# print(prediction)\n",
        "\n",
        "# if (prediction[0]==0):\n",
        "#     print('Pasien tidak terkena diabetes')\n",
        "# else:\n",
        "#     print('Pasien terkena diabetes')"
      ],
      "metadata": {
        "id": "L1U3ZQ4qDNCX"
      },
      "execution_count": null,
      "outputs": []
    },
    {
      "cell_type": "code",
      "source": [
        "# menyimpan model SVM UNDER\n",
        "filename = 'modelSVM_under.sav'\n",
        "pickle.dump(classifier_under,open(filename,'wb'))"
      ],
      "metadata": {
        "id": "u4gUMwC6Hsz4"
      },
      "execution_count": null,
      "outputs": []
    },
    {
      "cell_type": "markdown",
      "source": [
        "# Random Forest"
      ],
      "metadata": {
        "id": "uA8-8K6xDi7d"
      }
    },
    {
      "cell_type": "markdown",
      "source": [
        "# Random Forest OVER"
      ],
      "metadata": {
        "id": "nXrFE-ogQrrf"
      }
    },
    {
      "cell_type": "code",
      "source": [
        "# Model RF OVER\n",
        "from sklearn.ensemble import RandomForestClassifier\n",
        "clf_over = RandomForestClassifier(criterion= 'gini',\n",
        "                             max_depth = 9,\n",
        "                             min_samples_split=10,\n",
        "                             random_state = 5)\n",
        "clf_over.fit(X_train_over, y_train_over)"
      ],
      "metadata": {
        "id": "V3lFxPS-DrLZ",
        "colab": {
          "base_uri": "https://localhost:8080/",
          "height": 74
        },
        "outputId": "28e0be43-ef46-4bf2-af44-d360c9301970"
      },
      "execution_count": null,
      "outputs": [
        {
          "output_type": "execute_result",
          "data": {
            "text/plain": [
              "RandomForestClassifier(max_depth=9, min_samples_split=10, random_state=5)"
            ],
            "text/html": [
              "<style>#sk-container-id-162 {color: black;background-color: white;}#sk-container-id-162 pre{padding: 0;}#sk-container-id-162 div.sk-toggleable {background-color: white;}#sk-container-id-162 label.sk-toggleable__label {cursor: pointer;display: block;width: 100%;margin-bottom: 0;padding: 0.3em;box-sizing: border-box;text-align: center;}#sk-container-id-162 label.sk-toggleable__label-arrow:before {content: \"▸\";float: left;margin-right: 0.25em;color: #696969;}#sk-container-id-162 label.sk-toggleable__label-arrow:hover:before {color: black;}#sk-container-id-162 div.sk-estimator:hover label.sk-toggleable__label-arrow:before {color: black;}#sk-container-id-162 div.sk-toggleable__content {max-height: 0;max-width: 0;overflow: hidden;text-align: left;background-color: #f0f8ff;}#sk-container-id-162 div.sk-toggleable__content pre {margin: 0.2em;color: black;border-radius: 0.25em;background-color: #f0f8ff;}#sk-container-id-162 input.sk-toggleable__control:checked~div.sk-toggleable__content {max-height: 200px;max-width: 100%;overflow: auto;}#sk-container-id-162 input.sk-toggleable__control:checked~label.sk-toggleable__label-arrow:before {content: \"▾\";}#sk-container-id-162 div.sk-estimator input.sk-toggleable__control:checked~label.sk-toggleable__label {background-color: #d4ebff;}#sk-container-id-162 div.sk-label input.sk-toggleable__control:checked~label.sk-toggleable__label {background-color: #d4ebff;}#sk-container-id-162 input.sk-hidden--visually {border: 0;clip: rect(1px 1px 1px 1px);clip: rect(1px, 1px, 1px, 1px);height: 1px;margin: -1px;overflow: hidden;padding: 0;position: absolute;width: 1px;}#sk-container-id-162 div.sk-estimator {font-family: monospace;background-color: #f0f8ff;border: 1px dotted black;border-radius: 0.25em;box-sizing: border-box;margin-bottom: 0.5em;}#sk-container-id-162 div.sk-estimator:hover {background-color: #d4ebff;}#sk-container-id-162 div.sk-parallel-item::after {content: \"\";width: 100%;border-bottom: 1px solid gray;flex-grow: 1;}#sk-container-id-162 div.sk-label:hover label.sk-toggleable__label {background-color: #d4ebff;}#sk-container-id-162 div.sk-serial::before {content: \"\";position: absolute;border-left: 1px solid gray;box-sizing: border-box;top: 0;bottom: 0;left: 50%;z-index: 0;}#sk-container-id-162 div.sk-serial {display: flex;flex-direction: column;align-items: center;background-color: white;padding-right: 0.2em;padding-left: 0.2em;position: relative;}#sk-container-id-162 div.sk-item {position: relative;z-index: 1;}#sk-container-id-162 div.sk-parallel {display: flex;align-items: stretch;justify-content: center;background-color: white;position: relative;}#sk-container-id-162 div.sk-item::before, #sk-container-id-162 div.sk-parallel-item::before {content: \"\";position: absolute;border-left: 1px solid gray;box-sizing: border-box;top: 0;bottom: 0;left: 50%;z-index: -1;}#sk-container-id-162 div.sk-parallel-item {display: flex;flex-direction: column;z-index: 1;position: relative;background-color: white;}#sk-container-id-162 div.sk-parallel-item:first-child::after {align-self: flex-end;width: 50%;}#sk-container-id-162 div.sk-parallel-item:last-child::after {align-self: flex-start;width: 50%;}#sk-container-id-162 div.sk-parallel-item:only-child::after {width: 0;}#sk-container-id-162 div.sk-dashed-wrapped {border: 1px dashed gray;margin: 0 0.4em 0.5em 0.4em;box-sizing: border-box;padding-bottom: 0.4em;background-color: white;}#sk-container-id-162 div.sk-label label {font-family: monospace;font-weight: bold;display: inline-block;line-height: 1.2em;}#sk-container-id-162 div.sk-label-container {text-align: center;}#sk-container-id-162 div.sk-container {/* jupyter's `normalize.less` sets `[hidden] { display: none; }` but bootstrap.min.css set `[hidden] { display: none !important; }` so we also need the `!important` here to be able to override the default hidden behavior on the sphinx rendered scikit-learn.org. See: https://github.com/scikit-learn/scikit-learn/issues/21755 */display: inline-block !important;position: relative;}#sk-container-id-162 div.sk-text-repr-fallback {display: none;}</style><div id=\"sk-container-id-162\" class=\"sk-top-container\"><div class=\"sk-text-repr-fallback\"><pre>RandomForestClassifier(max_depth=9, min_samples_split=10, random_state=5)</pre><b>In a Jupyter environment, please rerun this cell to show the HTML representation or trust the notebook. <br />On GitHub, the HTML representation is unable to render, please try loading this page with nbviewer.org.</b></div><div class=\"sk-container\" hidden><div class=\"sk-item\"><div class=\"sk-estimator sk-toggleable\"><input class=\"sk-toggleable__control sk-hidden--visually\" id=\"sk-estimator-id-162\" type=\"checkbox\" checked><label for=\"sk-estimator-id-162\" class=\"sk-toggleable__label sk-toggleable__label-arrow\">RandomForestClassifier</label><div class=\"sk-toggleable__content\"><pre>RandomForestClassifier(max_depth=9, min_samples_split=10, random_state=5)</pre></div></div></div></div></div>"
            ]
          },
          "metadata": {},
          "execution_count": 1778
        }
      ]
    },
    {
      "cell_type": "code",
      "source": [
        "# prediksi terhadap model traning yang telah dibuat untuk OVER\n",
        "from sklearn.metrics import classification_report, accuracy_score, confusion_matrix\n",
        "prediction_over = clf_over.predict(X_test_over)\n",
        "accuracies_over = accuracy_score(y_test_over, prediction_over)\n",
        "\n",
        "print(prediction_over)\n",
        "print(\"akurasinya adalah = \",accuracies_over)"
      ],
      "metadata": {
        "id": "OcchtP90NQbO",
        "colab": {
          "base_uri": "https://localhost:8080/"
        },
        "outputId": "8ebbc762-dccd-4240-d777-e0b6eef9f148"
      },
      "execution_count": null,
      "outputs": [
        {
          "output_type": "stream",
          "name": "stdout",
          "text": [
            "[0 1 0 1 1 1 0 1 1 1 1 0 1 0 0 1 1 1 1 0 1 1 0 0 1 0 0 1 1 1 0 0 1 1 1 1 0\n",
            " 1 0 0 0 1]\n",
            "akurasinya adalah =  0.7142857142857143\n"
          ]
        }
      ]
    },
    {
      "cell_type": "code",
      "source": [
        "# confussion matrix OVER\n",
        "rf_over = confusion_matrix(y_test_over, prediction_over)\n",
        "print(rf_over)"
      ],
      "metadata": {
        "id": "ZvA0mp6iOGOM",
        "colab": {
          "base_uri": "https://localhost:8080/"
        },
        "outputId": "60454359-7f05-435f-b2b3-3272e88e653f"
      },
      "execution_count": null,
      "outputs": [
        {
          "output_type": "stream",
          "name": "stdout",
          "text": [
            "[[11  6]\n",
            " [ 6 19]]\n"
          ]
        }
      ]
    },
    {
      "cell_type": "code",
      "source": [
        "# akurasi OVER\n",
        "akurasi_over = classification_report(y_test_over, prediction_over)\n",
        "print(akurasi_over)"
      ],
      "metadata": {
        "colab": {
          "base_uri": "https://localhost:8080/"
        },
        "id": "oc7hXKbYTfUD",
        "outputId": "77bf1c5f-b6e0-4787-9f4d-2f66e30f742c"
      },
      "execution_count": null,
      "outputs": [
        {
          "output_type": "stream",
          "name": "stdout",
          "text": [
            "              precision    recall  f1-score   support\n",
            "\n",
            "           0       0.65      0.65      0.65        17\n",
            "           1       0.76      0.76      0.76        25\n",
            "\n",
            "    accuracy                           0.71        42\n",
            "   macro avg       0.70      0.70      0.70        42\n",
            "weighted avg       0.71      0.71      0.71        42\n",
            "\n"
          ]
        }
      ]
    },
    {
      "cell_type": "code",
      "source": [
        "# menyimpan model RF OVER\n",
        "filename = 'modelRF_over2.sav'\n",
        "pickle.dump(clf_over,open(filename,'wb'))"
      ],
      "metadata": {
        "id": "T_ZWbHPVPPF8"
      },
      "execution_count": null,
      "outputs": []
    },
    {
      "cell_type": "markdown",
      "source": [
        "# Random Forest UNDER"
      ],
      "metadata": {
        "id": "WLNJA7RbQxgn"
      }
    },
    {
      "cell_type": "code",
      "source": [
        "# Model RF UNDER\n",
        "from sklearn.ensemble import RandomForestClassifier\n",
        "clf_under = RandomForestClassifier(criterion= 'gini',\n",
        "                             max_depth = 9,\n",
        "                             min_samples_split=10,\n",
        "                             random_state = 5)\n",
        "clf_under.fit(X_train_under, y_train_under)"
      ],
      "metadata": {
        "id": "hkKVKdISIMHn",
        "colab": {
          "base_uri": "https://localhost:8080/",
          "height": 74
        },
        "outputId": "819f8814-ab10-4a2e-f8af-854c0584cc6c"
      },
      "execution_count": null,
      "outputs": [
        {
          "output_type": "execute_result",
          "data": {
            "text/plain": [
              "RandomForestClassifier(max_depth=9, min_samples_split=10, random_state=5)"
            ],
            "text/html": [
              "<style>#sk-container-id-163 {color: black;background-color: white;}#sk-container-id-163 pre{padding: 0;}#sk-container-id-163 div.sk-toggleable {background-color: white;}#sk-container-id-163 label.sk-toggleable__label {cursor: pointer;display: block;width: 100%;margin-bottom: 0;padding: 0.3em;box-sizing: border-box;text-align: center;}#sk-container-id-163 label.sk-toggleable__label-arrow:before {content: \"▸\";float: left;margin-right: 0.25em;color: #696969;}#sk-container-id-163 label.sk-toggleable__label-arrow:hover:before {color: black;}#sk-container-id-163 div.sk-estimator:hover label.sk-toggleable__label-arrow:before {color: black;}#sk-container-id-163 div.sk-toggleable__content {max-height: 0;max-width: 0;overflow: hidden;text-align: left;background-color: #f0f8ff;}#sk-container-id-163 div.sk-toggleable__content pre {margin: 0.2em;color: black;border-radius: 0.25em;background-color: #f0f8ff;}#sk-container-id-163 input.sk-toggleable__control:checked~div.sk-toggleable__content {max-height: 200px;max-width: 100%;overflow: auto;}#sk-container-id-163 input.sk-toggleable__control:checked~label.sk-toggleable__label-arrow:before {content: \"▾\";}#sk-container-id-163 div.sk-estimator input.sk-toggleable__control:checked~label.sk-toggleable__label {background-color: #d4ebff;}#sk-container-id-163 div.sk-label input.sk-toggleable__control:checked~label.sk-toggleable__label {background-color: #d4ebff;}#sk-container-id-163 input.sk-hidden--visually {border: 0;clip: rect(1px 1px 1px 1px);clip: rect(1px, 1px, 1px, 1px);height: 1px;margin: -1px;overflow: hidden;padding: 0;position: absolute;width: 1px;}#sk-container-id-163 div.sk-estimator {font-family: monospace;background-color: #f0f8ff;border: 1px dotted black;border-radius: 0.25em;box-sizing: border-box;margin-bottom: 0.5em;}#sk-container-id-163 div.sk-estimator:hover {background-color: #d4ebff;}#sk-container-id-163 div.sk-parallel-item::after {content: \"\";width: 100%;border-bottom: 1px solid gray;flex-grow: 1;}#sk-container-id-163 div.sk-label:hover label.sk-toggleable__label {background-color: #d4ebff;}#sk-container-id-163 div.sk-serial::before {content: \"\";position: absolute;border-left: 1px solid gray;box-sizing: border-box;top: 0;bottom: 0;left: 50%;z-index: 0;}#sk-container-id-163 div.sk-serial {display: flex;flex-direction: column;align-items: center;background-color: white;padding-right: 0.2em;padding-left: 0.2em;position: relative;}#sk-container-id-163 div.sk-item {position: relative;z-index: 1;}#sk-container-id-163 div.sk-parallel {display: flex;align-items: stretch;justify-content: center;background-color: white;position: relative;}#sk-container-id-163 div.sk-item::before, #sk-container-id-163 div.sk-parallel-item::before {content: \"\";position: absolute;border-left: 1px solid gray;box-sizing: border-box;top: 0;bottom: 0;left: 50%;z-index: -1;}#sk-container-id-163 div.sk-parallel-item {display: flex;flex-direction: column;z-index: 1;position: relative;background-color: white;}#sk-container-id-163 div.sk-parallel-item:first-child::after {align-self: flex-end;width: 50%;}#sk-container-id-163 div.sk-parallel-item:last-child::after {align-self: flex-start;width: 50%;}#sk-container-id-163 div.sk-parallel-item:only-child::after {width: 0;}#sk-container-id-163 div.sk-dashed-wrapped {border: 1px dashed gray;margin: 0 0.4em 0.5em 0.4em;box-sizing: border-box;padding-bottom: 0.4em;background-color: white;}#sk-container-id-163 div.sk-label label {font-family: monospace;font-weight: bold;display: inline-block;line-height: 1.2em;}#sk-container-id-163 div.sk-label-container {text-align: center;}#sk-container-id-163 div.sk-container {/* jupyter's `normalize.less` sets `[hidden] { display: none; }` but bootstrap.min.css set `[hidden] { display: none !important; }` so we also need the `!important` here to be able to override the default hidden behavior on the sphinx rendered scikit-learn.org. See: https://github.com/scikit-learn/scikit-learn/issues/21755 */display: inline-block !important;position: relative;}#sk-container-id-163 div.sk-text-repr-fallback {display: none;}</style><div id=\"sk-container-id-163\" class=\"sk-top-container\"><div class=\"sk-text-repr-fallback\"><pre>RandomForestClassifier(max_depth=9, min_samples_split=10, random_state=5)</pre><b>In a Jupyter environment, please rerun this cell to show the HTML representation or trust the notebook. <br />On GitHub, the HTML representation is unable to render, please try loading this page with nbviewer.org.</b></div><div class=\"sk-container\" hidden><div class=\"sk-item\"><div class=\"sk-estimator sk-toggleable\"><input class=\"sk-toggleable__control sk-hidden--visually\" id=\"sk-estimator-id-163\" type=\"checkbox\" checked><label for=\"sk-estimator-id-163\" class=\"sk-toggleable__label sk-toggleable__label-arrow\">RandomForestClassifier</label><div class=\"sk-toggleable__content\"><pre>RandomForestClassifier(max_depth=9, min_samples_split=10, random_state=5)</pre></div></div></div></div></div>"
            ]
          },
          "metadata": {},
          "execution_count": 1783
        }
      ]
    },
    {
      "cell_type": "code",
      "source": [
        "# prediksi terhadap model traning yang telah dibuat untuk UNDER\n",
        "from sklearn.metrics import classification_report, accuracy_score, confusion_matrix\n",
        "prediction_under = clf_under.predict(X_test_under)\n",
        "accuracies_under = accuracy_score(y_test_under, prediction_under)\n",
        "\n",
        "print(prediction_under)\n",
        "print(\"akurasinya adalah = \",accuracies_under)"
      ],
      "metadata": {
        "id": "OlQ-2f6KNWWI",
        "colab": {
          "base_uri": "https://localhost:8080/"
        },
        "outputId": "8cd06b77-b80d-4301-bb52-07afad6fbf2c"
      },
      "execution_count": null,
      "outputs": [
        {
          "output_type": "stream",
          "name": "stdout",
          "text": [
            "[0 1 0 0 1 0 0 1 0 1 0 0 0 1 0 1 1 1 0]\n",
            "akurasinya adalah =  0.6842105263157895\n"
          ]
        }
      ]
    },
    {
      "cell_type": "code",
      "source": [
        "# confussion matrix UNDER\n",
        "rf_under = confusion_matrix(y_test_under, prediction_under)\n",
        "print(rf_under)"
      ],
      "metadata": {
        "id": "WIk_E3UrOLnm",
        "colab": {
          "base_uri": "https://localhost:8080/"
        },
        "outputId": "765e3de7-bb63-4d53-8067-d5a710ce00ea"
      },
      "execution_count": null,
      "outputs": [
        {
          "output_type": "stream",
          "name": "stdout",
          "text": [
            "[[7 2]\n",
            " [4 6]]\n"
          ]
        }
      ]
    },
    {
      "cell_type": "code",
      "source": [
        "# menyimpan model RF UNDER\n",
        "filename = 'modelRF_under.sav'\n",
        "pickle.dump(rf_under,open(filename,'wb'))"
      ],
      "metadata": {
        "id": "Z9wQkO4nPayU"
      },
      "execution_count": null,
      "outputs": []
    }
  ],
  "metadata": {
    "colab": {
      "provenance": []
    },
    "kernelspec": {
      "display_name": "Python 3",
      "name": "python3"
    },
    "language_info": {
      "name": "python"
    }
  },
  "nbformat": 4,
  "nbformat_minor": 0
}